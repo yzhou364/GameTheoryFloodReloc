{
 "cells": [
  {
   "cell_type": "code",
   "execution_count": 1,
   "metadata": {},
   "outputs": [],
   "source": [
    "import pandas as pd \n",
    "from pandas import DataFrame\n",
    "import numpy as np\n",
    "import random\n",
    "import matplotlib.pyplot as plt\n",
    "from matplotlib.pyplot import plot, show, savefig, xlim, figure, \\\n",
    "                ylim, legend, boxplot, setp, axes"
   ]
  },
  {
   "cell_type": "code",
   "execution_count": 2,
   "metadata": {},
   "outputs": [],
   "source": [
    "df2_new300k = pd.read_csv('new300k.csv')"
   ]
  },
  {
   "cell_type": "code",
   "execution_count": 3,
   "metadata": {},
   "outputs": [
    {
     "data": {
      "text/plain": [
       "<Figure size 432x288 with 0 Axes>"
      ]
     },
     "metadata": {},
     "output_type": "display_data"
    },
    {
     "data": {
      "text/plain": [
       "<Figure size 15552x20736 with 0 Axes>"
      ]
     },
     "metadata": {},
     "output_type": "display_data"
    },
    {
     "data": {
      "image/png": "[encoded data removed]",
      "text/plain": [
       "<Figure size 432x288 with 1 Axes>"
      ]
     },
     "metadata": {
      "needs_background": "light"
     },
     "output_type": "display_data"
    }
   ],
   "source": [
    "# clear current figure\n",
    "plt.clf()\n",
    "plt.figure(figsize=(216,288))\n",
    "df2_new300k.plot(x = \"Subsidy\", y = \"OBJECTIVE\")\n",
    "\n",
    "\n",
    "plt.xlabel('Subsidy')\n",
    "plt.ylabel('Objective Value') \n",
    "plt.title('Objective value (10 year, MC+300k)')\n",
    "\n",
    "plt.savefig('MC+300k.png', dpi=300, bbox_inches='tight')\n",
    "\n",
    "plt.show()\n"
   ]
  },
  {
   "cell_type": "code",
   "execution_count": null,
   "metadata": {},
   "outputs": [],
   "source": [
    "df2_new500k = pd.read_csv('new500k.csv')"
   ]
  },
  {
   "cell_type": "code",
   "execution_count": null,
   "metadata": {},
   "outputs": [],
   "source": [
    "# clear current figure\n",
    "plt.clf()\n",
    "plt.figure(figsize=(216,288))\n",
    "df2_new500k.plot(x = \"Subsidy\", y = \"OBJECTIVE\")\n",
    "\n",
    "\n",
    "plt.xlabel('Subsidy')\n",
    "plt.ylabel('Objective Value') \n",
    "plt.title('Objective value (10 year,MC+500k)')\n",
    "\n",
    "plt.savefig('MC+500k.png', dpi=300, bbox_inches='tight')\n",
    "\n",
    "plt.show()\n"
   ]
  },
  {
   "cell_type": "code",
   "execution_count": null,
   "metadata": {},
   "outputs": [],
   "source": [
    "df2_new800k = pd.read_csv('new800k.csv')"
   ]
  },
  {
   "cell_type": "code",
   "execution_count": null,
   "metadata": {},
   "outputs": [],
   "source": [
    "# clear current figure\n",
    "plt.clf()\n",
    "plt.figure(figsize=(216,288))\n",
    "df2_new800k.plot(x = \"Subsidy\", y = \"OBJECTIVE\")\n",
    "\n",
    "\n",
    "plt.xlabel('Subsidy')\n",
    "plt.ylabel('Objective Value') \n",
    "plt.title('Objective value (10 year,MC+800k)')\n",
    "\n",
    "plt.savefig('MC+800k.png', dpi=300, bbox_inches='tight')\n",
    "\n",
    "plt.show()\n"
   ]
  },
  {
   "cell_type": "code",
   "execution_count": null,
   "metadata": {},
   "outputs": [],
   "source": [
    "df2_new1m = pd.read_csv('new1m.csv')"
   ]
  },
  {
   "cell_type": "code",
   "execution_count": null,
   "metadata": {},
   "outputs": [],
   "source": [
    "# clear current figure\n",
    "plt.clf()\n",
    "plt.figure(figsize=(216,288))\n",
    "df2_new1m.plot(x = \"Subsidy\", y = \"OBJECTIVE\")\n",
    "\n",
    "\n",
    "plt.xlabel('Subsidy')\n",
    "plt.ylabel('Objective Value') \n",
    "plt.title('OObjective value (10 year,MC+1M)')\n",
    "\n",
    "plt.savefig('MC+1M.png', dpi=300, bbox_inches='tight')\n",
    "\n",
    "plt.show()\n"
   ]
  },
  {
   "cell_type": "code",
   "execution_count": null,
   "metadata": {},
   "outputs": [],
   "source": [
    "# clear current figure\n",
    "plt.clf()\n",
    "# plt.figure(figsize=(216,288))\n",
    "\n",
    "x = df2_new500k.Subsidy\n",
    "y1 = df2_new300k.OBJECTIVE\n",
    "y2 = df2_new500k.OBJECTIVE\n",
    "y3 = df2_new800k.OBJECTIVE\n",
    "y4 = df2_new1m.OBJECTIVE\n",
    "\n",
    "plot(x,y1)\n",
    "plot(x,y2)\n",
    "plot(x,y3)\n",
    "plot(x,y4)\n",
    "\n",
    "plt.xlabel('Subsidy')\n",
    "plt.ylabel('Objective Value') \n",
    "plt.title('Objective value (10 year)')\n",
    "\n",
    "plt.legend(labels=['MC+300k','MC+500k','MC+800k','MC+1M']) \n",
    "\n",
    "plt.savefig('MC.png', dpi=300, bbox_inches='tight')\n",
    "\n",
    "plt.show()\n"
   ]
  },
  {
   "cell_type": "markdown",
   "metadata": {},
   "source": [
    "# 100 Year Flood"
   ]
  },
  {
   "cell_type": "code",
   "execution_count": null,
   "metadata": {},
   "outputs": [],
   "source": [
    "df2_new300k_100 = pd.read_csv('new300k_100.csv')\n"
   ]
  },
  {
   "cell_type": "code",
   "execution_count": null,
   "metadata": {},
   "outputs": [],
   "source": [
    "# clear current figure\n",
    "plt.clf()\n",
    "plt.figure(figsize=(216,288))\n",
    "df2_new300k_100.plot(x = \"Subsidy\", y = \"OBJECTIVE\")\n",
    "\n",
    "\n",
    "plt.xlabel('Subsidy')\n",
    "plt.ylabel('Objective Value') \n",
    "plt.title('Objective value (100 year, MC+300k)')\n",
    "\n",
    "plt.savefig('100y_MC+300k.png', dpi=300, bbox_inches='tight')\n",
    "\n",
    "plt.show()\n"
   ]
  },
  {
   "cell_type": "code",
   "execution_count": null,
   "metadata": {},
   "outputs": [],
   "source": [
    "df2_new500k_100 = pd.read_csv('new500k_100.csv')"
   ]
  },
  {
   "cell_type": "code",
   "execution_count": null,
   "metadata": {},
   "outputs": [],
   "source": [
    "# clear current figure\n",
    "plt.clf()\n",
    "plt.figure(figsize=(216,288))\n",
    "df2_new500k.plot(x = \"Subsidy\", y = \"OBJECTIVE\")\n",
    "\n",
    "\n",
    "plt.xlabel('Subsidy')\n",
    "plt.ylabel('Objective Value') \n",
    "plt.title('Objective value (100 year, MC+500k)')\n",
    "\n",
    "plt.savefig('100y_MC+500k.png', dpi=300, bbox_inches='tight')\n",
    "\n",
    "plt.show()\n"
   ]
  },
  {
   "cell_type": "code",
   "execution_count": null,
   "metadata": {},
   "outputs": [],
   "source": [
    "df2_new800k_100 = pd.read_csv('new800k_100.csv')"
   ]
  },
  {
   "cell_type": "code",
   "execution_count": null,
   "metadata": {},
   "outputs": [],
   "source": [
    "# clear current figure\n",
    "plt.clf()\n",
    "plt.figure(figsize=(216,288))\n",
    "df2_new800k_100.plot(x = \"Subsidy\", y = \"OBJECTIVE\")\n",
    "\n",
    "\n",
    "plt.xlabel('Subsidy')\n",
    "plt.ylabel('Objective Value') \n",
    "plt.title('Objective value (100 year, MC+800k)')\n",
    "\n",
    "plt.savefig('100_MC+800k.png', dpi=300, bbox_inches='tight')\n",
    "\n",
    "plt.show()\n"
   ]
  },
  {
   "cell_type": "code",
   "execution_count": null,
   "metadata": {},
   "outputs": [],
   "source": [
    "# clear current figure\n",
    "plt.clf()\n",
    "plt.figure(figsize=(216,288))\n",
    "df2_new800k_100_2.plot(x = \"Subsidy\", y = \"OBJECTIVE\")\n",
    "\n",
    "\n",
    "plt.xlabel('Subsidy')\n",
    "plt.ylabel('Objective Value') \n",
    "plt.title('Objective value (100 year, MC+800k)')\n",
    "\n",
    "plt.savefig('100_2_MC+800k.png', dpi=300, bbox_inches='tight')\n",
    "\n",
    "plt.show()\n"
   ]
  },
  {
   "cell_type": "code",
   "execution_count": null,
   "metadata": {},
   "outputs": [],
   "source": [
    "df2_new1m_100 = pd.read_csv('new31m_100.csv')"
   ]
  },
  {
   "cell_type": "code",
   "execution_count": null,
   "metadata": {},
   "outputs": [],
   "source": [
    "# clear current figure\n",
    "plt.clf()\n",
    "plt.figure(figsize=(216,288))\n",
    "df2_new1m_100.plot(x = \"Subsidy\", y = \"OBJECTIVE\")\n",
    "\n",
    "\n",
    "plt.xlabel('Subsidy')\n",
    "plt.ylabel('Objective Value') \n",
    "plt.title('Objective value (100 year, MC+1m)')\n",
    "\n",
    "plt.savefig('100y_MC+1m.png', dpi=300, bbox_inches='tight')\n",
    "\n",
    "plt.show()\n"
   ]
  },
  {
   "cell_type": "code",
   "execution_count": null,
   "metadata": {},
   "outputs": [],
   "source": [
    "# clear current figure\n",
    "plt.clf()\n",
    "# plt.figure(figsize=(216,288))\n",
    "\n",
    "x = df2_new500k_100.Subsidy\n",
    "y1 = df2_new300k_100.OBJECTIVE\n",
    "y2 = df2_new500k_100.OBJECTIVE\n",
    "y3 = df2_new800k_100.OBJECTIVE\n",
    "y4 = df2_new1m_100.OBJECTIVE\n",
    "\n",
    "plot(x,y1)\n",
    "plot(x,y2)\n",
    "plot(x,y3)\n",
    "plot(x,y4)\n",
    "\n",
    "plt.xlabel('Subsidy')\n",
    "plt.ylabel('Objective Value') \n",
    "plt.title('Objective value (10 year)')\n",
    "\n",
    "plt.legend(labels=['MC+300k','MC+500k','MC+800k','MC+1M']) \n",
    "\n",
    "plt.savefig('MC.png', dpi=300, bbox_inches='tight')\n",
    "\n",
    "plt.show()\n"
   ]
  }
 ],
 "metadata": {
  "kernelspec": {
   "display_name": "Python 3",
   "language": "python",
   "name": "python3"
  },
  "language_info": {
   "codemirror_mode": {
    "name": "ipython",
    "version": 3
   },
   "file_extension": ".py",
   "mimetype": "text/x-python",
   "name": "python",
   "nbconvert_exporter": "python",
   "pygments_lexer": "ipython3",
   "version": "3.8.3"
  }
 },
 "nbformat": 4,
 "nbformat_minor": 4
}
