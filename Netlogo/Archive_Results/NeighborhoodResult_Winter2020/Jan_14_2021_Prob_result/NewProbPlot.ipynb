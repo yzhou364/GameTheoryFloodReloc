{
 "cells": [
  {
   "cell_type": "code",
   "execution_count": 1,
   "metadata": {},
   "outputs": [],
   "source": [
    "import pandas as pd \n",
    "from pandas import DataFrame\n",
    "import numpy as np\n",
    "import random\n",
    "import matplotlib.pyplot as plt\n",
    "from matplotlib.pyplot import plot, show, savefig, xlim, figure, \\\n",
    "                ylim, legend, boxplot, setp, axes"
   ]
  },
  {
   "cell_type": "markdown",
   "metadata": {},
   "source": [
    "# 10-year flood"
   ]
  },
  {
   "cell_type": "code",
   "execution_count": 2,
   "metadata": {},
   "outputs": [],
   "source": [
    "# df1 = pd.read_csv('10_100_3of5.csv')\n",
    "df11 = pd.read_csv('10_10_3of5.csv')\n",
    "# df12 = pd.read_csv('10_30_3of5.csv')\n",
    "df13 = pd.read_csv('10_50_3of5.csv')\n",
    "# df11"
   ]
  },
  {
   "cell_type": "code",
   "execution_count": null,
   "metadata": {},
   "outputs": [],
   "source": [
    "# To see how much faster does the neighborhood effect does to encourage self-relocation \n",
    "df1['year_diff'] = df1.apply(lambda row: row.mot_year - row.ori_year, axis = 1)\n",
    "df11['year_diff'] = df11.apply(lambda row: row.mot_year - row.ori_year, axis = 1)\n",
    "df12['year_diff'] = df12.apply(lambda row: row.mot_year - row.ori_year, axis = 1)\n",
    "df13['year_diff'] = df13.apply(lambda row: row.mot_year - row.ori_year, axis = 1)\n",
    "\n",
    "# df11['year_diff'] = df11.apply(lambda row: row.ori_year - row.mot_year, axis = 1) \n",
    "# df11['year_diff'] = df11.apply(lambda row: row.ori_year - row.mot_year, axis = 1) \n",
    "# df12['year_diff'] = df12.apply(lambda row: row.ori_year - row.mot_year, axis = 1) \n",
    "# df13['year_diff'] = df13.apply(lambda row: row.ori_year - row.mot_year, axis = 1) \n"
   ]
  },
  {
   "cell_type": "code",
   "execution_count": null,
   "metadata": {},
   "outputs": [],
   "source": [
    "# clear current figure\n",
    "plt.clf()\n",
    "fig = figure(figsize=(15, 8))\n",
    "plt.title('Motivated moved year (10-year flooding, 3 of 5 neighbors have moved)')\n",
    "\n",
    "df11.year_diff.value_counts().sort_index().cumsum().plot(ds='steps-post')\n",
    "df12.year_diff.value_counts().sort_index().cumsum().plot(ds='steps-post')\n",
    "df13.year_diff.value_counts().sort_index().cumsum().plot(ds='steps-post')\n",
    "\n",
    "plt.xlim([-200,-1])\n",
    "plt.ylim([0,100])\n",
    "\n",
    "plt.ylabel('Number of moves')\n",
    "plt.xlabel('Year Reduction')\n",
    "\n",
    "plt.legend(labels=['10% neighborhood effect','30% neighborhood effect','50% neighborhood effect']) \n",
    "\n",
    "plt.show()"
   ]
  },
  {
   "cell_type": "markdown",
   "metadata": {},
   "source": [
    ">> There are a lot of people who move out only a couple of years. This might confirm the free rider problem"
   ]
  },
  {
   "cell_type": "code",
   "execution_count": null,
   "metadata": {},
   "outputs": [],
   "source": [
    "df11_diff = df11.year_diff.value_counts().sort_index() \n",
    "# df11_diff"
   ]
  },
  {
   "cell_type": "code",
   "execution_count": null,
   "metadata": {},
   "outputs": [],
   "source": [
    "df12.year_diff.value_counts().sort_index() "
   ]
  },
  {
   "cell_type": "code",
   "execution_count": null,
   "metadata": {},
   "outputs": [],
   "source": [
    "# df13.year_diff.value_counts().sort_index() "
   ]
  },
  {
   "cell_type": "code",
   "execution_count": null,
   "metadata": {},
   "outputs": [],
   "source": [
    "# df11.breed.value_counts()"
   ]
  },
  {
   "cell_type": "code",
   "execution_count": null,
   "metadata": {},
   "outputs": [],
   "source": [
    "# df11.mot_year.value_counts().sort_index() "
   ]
  },
  {
   "cell_type": "code",
   "execution_count": null,
   "metadata": {},
   "outputs": [],
   "source": [
    "# df11_notmove = df11[df11['mot_year']==200]\n",
    "# df12_notmove = df12[df12['mot_year']==200]\n",
    "# df13_notmove = df13[df13['mot_year']==200]\n",
    "\n",
    "# df11_notmove_normal = df11_notmove[df11_notmove['breed']=='{breed normals}']\n",
    "# df12_notmove_normal = df12_notmove[df12_notmove['breed']=='{breed normals}']\n",
    "# df13_notmove_normal = df13_notmove[df13_notmove['breed']=='{breed normals}']\n",
    "\n",
    "# df11_notmove_poor = df11_notmove[df11_notmove['breed']=='{breed poors}']\n",
    "# df12_notmove_poor = df12_notmove[df12_notmove['breed']=='{breed poors}']\n",
    "# df13_notmove_poor = df13_notmove[df13_notmove['breed']=='{breed poors}']"
   ]
  },
  {
   "cell_type": "code",
   "execution_count": null,
   "metadata": {},
   "outputs": [],
   "source": [
    "# df11_notmove"
   ]
  },
  {
   "cell_type": "code",
   "execution_count": null,
   "metadata": {},
   "outputs": [],
   "source": [
    "# df11_tmove = df11[df11['mot_year']!=200]"
   ]
  },
  {
   "cell_type": "code",
   "execution_count": null,
   "metadata": {},
   "outputs": [],
   "source": [
    "# df11_tmove"
   ]
  },
  {
   "cell_type": "markdown",
   "metadata": {},
   "source": [
    ">> There are difference peaks and troughs of relocation frequency"
   ]
  },
  {
   "cell_type": "code",
   "execution_count": 3,
   "metadata": {},
   "outputs": [],
   "source": [
    "# To see when people (motivated+self) relocate \n",
    "# df1_count = df1.mot_year.value_counts().sort_index()\n",
    "df11_count = df11.mot_year.value_counts().sort_index()\n",
    "# df12_count = df12.mot_year.value_counts().sort_index()\n",
    "df13_count = df13.mot_year.value_counts().sort_index()\n",
    "# df1_count\n"
   ]
  },
  {
   "cell_type": "code",
   "execution_count": null,
   "metadata": {},
   "outputs": [],
   "source": [
    "# df11_count"
   ]
  },
  {
   "cell_type": "code",
   "execution_count": null,
   "metadata": {},
   "outputs": [],
   "source": [
    "# df12_count"
   ]
  },
  {
   "cell_type": "code",
   "execution_count": null,
   "metadata": {},
   "outputs": [],
   "source": [
    "# df13_count"
   ]
  },
  {
   "cell_type": "code",
   "execution_count": 7,
   "metadata": {},
   "outputs": [
    {
     "data": {
      "text/plain": [
       "<Figure size 432x288 with 0 Axes>"
      ]
     },
     "metadata": {},
     "output_type": "display_data"
    },
    {
     "data": {
      "image/png": "[encoded data removed]",
      "text/plain": [
       "<Figure size 1080x576 with 1 Axes>"
      ]
     },
     "metadata": {
      "needs_background": "light"
     },
     "output_type": "display_data"
    }
   ],
   "source": [
    "# clear current figure\n",
    "plt.clf()\n",
    "fig = figure(figsize=(15, 8))\n",
    "plt.title('Cumulative moves per year (10-year flooding, 3 of 5  neighbors have moved)')\n",
    "\n",
    "# df1_count.cumsum().plot(ds='steps-post')\n",
    "df11_count.cumsum().plot(ds='steps-post',color='orange')\n",
    "# df12_count.cumsum().plot(ds='steps-post')\n",
    "df13_count.cumsum().plot(ds='steps-post',color='red')\n",
    "\n",
    "plt.xlim([0,100])\n",
    "plt.ylim([2500,3200])\n",
    "\n",
    "plt.ylabel('Number of moves')\n",
    "plt.xlabel('Relocation year')\n",
    "\n",
    "plt.legend(labels=['10% neighborhood effect','50% neighborhood effect']) \n",
    "\n",
    "# plt.legend(labels=['100% neighborhood effect','10% neighborhood effect','30% neighborhood effect','50% neighborhood effect']) \n",
    "\n",
    "plt.show()"
   ]
  },
  {
   "cell_type": "markdown",
   "metadata": {},
   "source": [
    ">> It is reasonable that the starting point is not the same since there are people who move right away and neighborhood effect comes into play"
   ]
  },
  {
   "cell_type": "code",
   "execution_count": null,
   "metadata": {},
   "outputs": [],
   "source": [
    "df1_count_ori = df1.ori_year.value_counts().sort_index()\n",
    "df11_count_ori = df11.ori_year.value_counts().sort_index()\n",
    "df12_count_ori = df12.ori_year.value_counts().sort_index()\n",
    "df13_count_ori = df13.ori_year.value_counts().sort_index()\n",
    "# df13_count_ori"
   ]
  },
  {
   "cell_type": "code",
   "execution_count": null,
   "metadata": {
    "scrolled": false
   },
   "outputs": [],
   "source": [
    "fig = figure(figsize=(15, 8))\n",
    "plot2 = plt.figure(1)\n",
    "df11_count.cumsum().plot(ds='steps-post',color ='orange')\n",
    "df1_count.cumsum().plot(ds='steps-post')\n",
    "plt.xlim([0,80])\n",
    "plt.ylim([2000,3500])\n",
    "plt.ylabel('Number of moves')\n",
    "plt.xlabel('Relocation year')\n",
    "plt.legend(labels=['self-moved + 10% neighborhood effect','100% neighborhood effect'])\n",
    "\n",
    "fig = figure(figsize=(15, 8))\n",
    "plot3 = plt.figure(2)\n",
    "df12_count.cumsum().plot(ds='steps-post',color ='green')\n",
    "df1_count.cumsum().plot(ds='steps-post')\n",
    "plt.xlim([0,80])\n",
    "plt.ylim([2000,3500])\n",
    "plt.ylabel('Number of moves')\n",
    "plt.xlabel('Relocation year')\n",
    "plt.legend(labels=['self-moved + 30% neighborhood effect','100% neighborhood effect'])\n",
    "\n",
    "fig = figure(figsize=(15, 8))\n",
    "plot4 = plt.figure(3)\n",
    "df13_count.cumsum().plot(ds='steps-post',color ='red')\n",
    "df1_count.cumsum().plot(ds='steps-post')\n",
    "plt.xlim([0,80])\n",
    "plt.ylim([2000,3500])\n",
    "plt.ylabel('Number of moves')\n",
    "plt.xlabel('Relocation year')\n",
    "plt.legend(labels=['self-moved + 50% neighborhood effect','100% neighborhood effect'])\n",
    "\n",
    "plt.show()"
   ]
  },
  {
   "cell_type": "code",
   "execution_count": null,
   "metadata": {},
   "outputs": [],
   "source": [
    "df1_nb = pd.read_csv('10_100_3of5.csv')\n",
    "df11_nb = pd.read_csv('10_10_3of5.csv')\n",
    "df12_nb = pd.read_csv('10_30_3of5.csv')\n",
    "df13_nb = pd.read_csv('10_50_3of5.csv')\n"
   ]
  },
  {
   "cell_type": "code",
   "execution_count": null,
   "metadata": {},
   "outputs": [],
   "source": [
    "\n",
    "index_name = df11_nb[(df11_nb['normal_inf?'] == '0') & (df11_nb['poor_inf?'] == '0')].index \n",
    "df11_nb.drop(index_name, inplace = True) \n",
    "\n",
    "index_name = df12_nb[(df12_nb['normal_inf?'] == '0') & (df12_nb['poor_inf?'] == '0')].index \n",
    "df12_nb.drop(index_name, inplace = True)\n",
    "\n",
    "index_name = df13_nb[(df13_nb['normal_inf?'] == '0') & (df13_nb['poor_inf?'] == '0')].index \n",
    "df13_nb.drop(index_name, inplace = True)"
   ]
  },
  {
   "cell_type": "code",
   "execution_count": null,
   "metadata": {},
   "outputs": [],
   "source": [
    "index_name = df11_nb[(df11_nb['normal_inf?'] == '0') & (df11_nb['poor_inf?'] == '0')].index \n",
    "df11_nb.drop(index_name, inplace = True) \n",
    "\n",
    "index_name = df12_nb[(df12_nb['normal_inf?'] == '0') & (df12_nb['poor_inf?'] == '0')].index \n",
    "df12_nb.drop(index_name, inplace = True)\n",
    "\n",
    "index_name = df13_nb[(df13_nb['normal_inf?'] == '0') & (df13_nb['poor_inf?'] == '0')].index \n",
    "df13_nb.drop(index_name, inplace = True)\n",
    "\n"
   ]
  },
  {
   "cell_type": "code",
   "execution_count": null,
   "metadata": {},
   "outputs": [],
   "source": [
    "# df11_nb"
   ]
  },
  {
   "cell_type": "code",
   "execution_count": null,
   "metadata": {},
   "outputs": [],
   "source": [
    "df11_nb.elevation.value_counts().sort_index()"
   ]
  },
  {
   "cell_type": "code",
   "execution_count": null,
   "metadata": {},
   "outputs": [],
   "source": [
    "# clear current figure\n",
    "plt.clf()\n",
    "fig = figure(figsize=(15, 8))\n",
    "plt.title('Number of motivated moves by elevation per year (10-year flood, 3 of 5  neighbors have moved)')\n",
    "\n",
    "df11_nb.elevation.value_counts().sort_index().plot(ds='steps-post',color ='orange')\n",
    "df12_nb.elevation.value_counts().sort_index().plot(ds='steps-post',color ='green')\n",
    "df13_nb.elevation.value_counts().sort_index().plot(ds='steps-post',color ='red')\n",
    "\n",
    "\n",
    "# df11_nb.elevation.value_counts().sort_index().cumsum().plot(ds='steps-post',color ='orange')\n",
    "# df12_nb.elevation.value_counts().sort_index().cumsum().plot(ds='steps-post',color ='green')\n",
    "# df13_nb.elevation.value_counts().sort_index().cumsum().plot(ds='steps-post',color ='red')\n",
    "\n",
    "# plt.xlim([0,80])\n",
    "\n",
    "plt.ylabel('Number of moves')\n",
    "plt.xlabel('Elevation (m)')\n",
    "\n",
    "plt.legend(labels=['10% neighborhood effect','30% neighborhood effect','50% neighborhood effect','50% neighborhood effect']) \n",
    "\n",
    "plt.show()"
   ]
  },
  {
   "cell_type": "code",
   "execution_count": null,
   "metadata": {},
   "outputs": [],
   "source": [
    "df1_count_nb = df1.mot_year.value_counts().sort_index()\n",
    "df11_count_nb = df11_nb.mot_year.value_counts().sort_index()\n",
    "df12_count_nb = df12_nb.mot_year.value_counts().sort_index()\n",
    "df13_count_nb = df13_nb.mot_year.value_counts().sort_index()\n",
    "# df12_count_nb\n"
   ]
  },
  {
   "cell_type": "code",
   "execution_count": null,
   "metadata": {},
   "outputs": [],
   "source": [
    "# clear current figure\n",
    "plt.clf()\n",
    "fig = figure(figsize=(15, 8))\n",
    "plt.title('Cumulative number of motivated moves per year (10-year flood, 3 of 5  neighbors have moved)')\n",
    "\n",
    "df11_count_nb.cumsum().plot(ds='steps-post',color ='orange')\n",
    "df12_count_nb.cumsum().plot(ds='steps-post',color ='green')\n",
    "df13_count_nb.cumsum().plot(ds='steps-post',color ='red')\n",
    "\n",
    "plt.xlim([0,80])\n",
    "\n",
    "plt.ylabel('Number of moves')\n",
    "plt.xlabel('Relocation year')\n",
    "\n",
    "plt.legend(labels=['10% neighborhood effect','30% neighborhood effect','50% neighborhood effect','50% neighborhood effect']) \n",
    "\n",
    "plt.show()"
   ]
  },
  {
   "cell_type": "code",
   "execution_count": null,
   "metadata": {},
   "outputs": [],
   "source": [
    "\n",
    "df1_nb_normal = pd.read_csv('10_100_3of5.csv')\n",
    "df11_nb_normal = pd.read_csv('10_10_3of5.csv')\n",
    "df12_nb_normal = pd.read_csv('10_30_3of5.csv')\n",
    "df13_nb_normal = pd.read_csv('10_50_3of5.csv')\n",
    "\n",
    "df1_nb_poor = pd.read_csv('10_100_3of5.csv')\n",
    "df11_nb_poor = pd.read_csv('10_10_3of5.csv')\n",
    "df12_nb_poor = pd.read_csv('10_30_3of5.csv')\n",
    "df13_nb_poor = pd.read_csv('10_50_3of5.csv')"
   ]
  },
  {
   "cell_type": "code",
   "execution_count": null,
   "metadata": {
    "scrolled": false
   },
   "outputs": [],
   "source": [
    "index_name = df11_nb_normal[(df11_nb_normal['normal_inf?'] == '0')].index \n",
    "df11_nb_normal.drop(index_name, inplace = True) \n",
    "\n",
    "index_name = df12_nb_normal[(df12_nb_normal['normal_inf?'] == '0')].index \n",
    "df12_nb_normal.drop(index_name, inplace = True)\n",
    "\n",
    "index_name = df13_nb_normal[(df13_nb_normal['normal_inf?'] == '0')].index \n",
    "df13_nb_normal.drop(index_name, inplace = True)\n",
    "\n",
    "\n",
    "index_name = df11_nb_poor[(df11_nb_poor['poor_inf?'] == '0')].index \n",
    "df11_nb_poor.drop(index_name, inplace = True) \n",
    "\n",
    "index_name = df12_nb_poor[(df12_nb_poor['poor_inf?'] == '0')].index \n",
    "df12_nb_poor.drop(index_name, inplace = True)\n",
    "\n",
    "index_name = df13_nb_poor[(df13_nb_poor['poor_inf?'] == '0')].index \n",
    "df13_nb_poor.drop(index_name, inplace = True)\n",
    "\n"
   ]
  },
  {
   "cell_type": "code",
   "execution_count": null,
   "metadata": {},
   "outputs": [],
   "source": [
    "# df11_nb_normal"
   ]
  },
  {
   "cell_type": "code",
   "execution_count": null,
   "metadata": {},
   "outputs": [],
   "source": [
    "\n",
    "df11_count_nb_normal = df11_nb_normal.mot_year.value_counts().sort_index()\n",
    "df12_count_nb_normal = df12_nb_normal.mot_year.value_counts().sort_index()\n",
    "df13_count_nb_normal = df13_nb_normal.mot_year.value_counts().sort_index()\n",
    "\n",
    "\n",
    "df11_count_nb_poor = df11_nb_poor.mot_year.value_counts().sort_index()\n",
    "df12_count_nb_poor = df12_nb_poor.mot_year.value_counts().sort_index()\n",
    "df13_count_nb_poor = df13_nb_poor.mot_year.value_counts().sort_index()\n",
    "\n",
    "\n"
   ]
  },
  {
   "cell_type": "code",
   "execution_count": null,
   "metadata": {},
   "outputs": [],
   "source": [
    "# clear current figure\n",
    "plt.clf()\n",
    "fig = figure(figsize=(15, 8))\n",
    "plt.title('Cumulative Number of motivated moves oer year (10-year flood, 3 of 5 neighbors have moved)')\n",
    "\n",
    "df11_count_nb.cumsum().plot(color='orange', ds='steps-post')\n",
    "df11_count_nb_normal.cumsum().plot(color='orange', Marker=\"s\", ds='steps-post')\n",
    "df11_count_nb_poor.cumsum().plot(color='orange',Marker=\"+\", ds='steps-post')\n",
    "\n",
    "df12_count_nb.cumsum().plot(color='green', ds='steps-post')\n",
    "df12_count_nb_normal.cumsum().plot(color='green', marker=\"s\", ds='steps-post')\n",
    "df12_count_nb_poor.cumsum().plot(color='green', marker=\"+\", ds='steps-post')\n",
    "\n",
    "\n",
    "df13_count_nb.cumsum().plot(color='red', ds='steps-post')\n",
    "df13_count_nb_normal.cumsum().plot(color='red', marker=\"s\", ds='steps-post')\n",
    "df13_count_nb_poor.cumsum().plot(color='red', marker=\"+\", ds='steps-post')\n",
    "\n",
    "plt.xlim([0,80])\n",
    "# plt.ylim([2600,3800])\n",
    "\n",
    "plt.ylabel('Number of moves')\n",
    "plt.xlabel('Relocation year')\n",
    "\n",
    "plt.legend(labels=['10% Neighborhood effect','Middle income', 'Low income',\n",
    "                   '30% Neighborhood effect','Middle income', 'Low income',\n",
    "                   '50% Neighborhood effect','Middle income', 'Low income']) \n",
    "\n",
    "plt.show()"
   ]
  },
  {
   "cell_type": "code",
   "execution_count": null,
   "metadata": {},
   "outputs": [],
   "source": [
    "# clear current figure\n",
    "plt.clf()\n",
    "fig = figure(figsize=(15, 8))\n",
    "plt.title('Cumulative number of middle-income household motivated moves per year (10-year flood, 3 of 5 neighbors have moved)')\n",
    "\n",
    "df11_count_nb_normal.cumsum().plot(color='orange', Marker=\"s\", ds='steps-post')\n",
    "\n",
    "df12_count_nb_normal.cumsum().plot(color='green', marker=\"s\", ds='steps-post')\n",
    "\n",
    "df13_count_nb_normal.cumsum().plot(color='red', marker=\"s\", ds='steps-post')\n",
    "\n",
    "plt.xlim([0,80])\n",
    "# plt.ylim([2600,3800])\n",
    "\n",
    "plt.ylabel('Number of moves')\n",
    "plt.xlabel('Relocation year')\n",
    "\n",
    "plt.legend(labels=['10% Neighborhood effect - Middle income',\n",
    "                   '30% Neighborhood effect - Middle income',\n",
    "                   '50% Neighborhood effect - Middle income']) \n",
    "\n",
    "plt.show()"
   ]
  },
  {
   "cell_type": "code",
   "execution_count": null,
   "metadata": {},
   "outputs": [],
   "source": [
    "# clear current figure\n",
    "plt.clf()\n",
    "fig = figure(figsize=(15, 8))\n",
    "plt.title('Cumulative number of low-income household motivated moves per year (10-year flood, 3 of 5 neighbors have moved)')\n",
    "\n",
    "\n",
    "df11_count_nb_poor.cumsum().plot(color='orange',Marker=\"+\", ds='steps-post')\n",
    "\n",
    "df12_count_nb_poor.cumsum().plot(color='green', marker=\"+\", ds='steps-post')\n",
    "\n",
    "df13_count_nb_poor.cumsum().plot(color='red', marker=\"+\", ds='steps-post')\n",
    "\n",
    "plt.xlim([0,80])\n",
    "# plt.ylim([2600,3800])\n",
    "\n",
    "plt.ylabel('Number of moves')\n",
    "plt.xlabel('Relocation year')\n",
    "\n",
    "plt.legend(labels=['10% Neighborhood effect - Low income',\n",
    "                   '30% Neighborhood effect - Low income',\n",
    "                   '50% Neighborhood effect - Low income']) \n",
    "\n",
    "plt.show()"
   ]
  },
  {
   "cell_type": "code",
   "execution_count": null,
   "metadata": {},
   "outputs": [],
   "source": [
    "df1_move_nb = pd.read_csv('10_100_3of5.csv')\n",
    "df11_move_nb = pd.read_csv('10_10_3of5.csv')\n",
    "df12_move_nb = pd.read_csv('10_30_3of5.csv')\n",
    "df13_move_nb = pd.read_csv('10_50_3of5.csv')"
   ]
  },
  {
   "cell_type": "code",
   "execution_count": null,
   "metadata": {},
   "outputs": [],
   "source": [
    "# df11_move_nb = df11_move_nb[(df11_move_nb['normal_inf?'] == '0') & (df11_move_nb['poor_inf?'] == '0')]\n",
    "# df12_move_nb = df12_move_nb[(df12_move_nb['normal_inf?'] == '0') & (df12_move_nb['poor_inf?'] == '0')]\n",
    "# df13_move_nb = df13_move_nb[(df13_move_nb['normal_inf?'] == '0') & (df13_move_nb['poor_inf?'] == '0')]"
   ]
  },
  {
   "cell_type": "code",
   "execution_count": null,
   "metadata": {},
   "outputs": [],
   "source": [
    "# df13_move_nb.breed.value_counts()"
   ]
  },
  {
   "cell_type": "code",
   "execution_count": null,
   "metadata": {},
   "outputs": [],
   "source": [
    "# df13_move_nb[df13_move_nb['breed']=='{breed poors}']"
   ]
  },
  {
   "cell_type": "code",
   "execution_count": null,
   "metadata": {},
   "outputs": [],
   "source": [
    "\n",
    "# df11_move_nb_normal = df11_move_nb[df11_move_nb['breed']=='{breed normals}'].mot_year.value_counts().sort_index().cumsum()\n",
    "# df12_move_nb_normal = df12_move_nb[df12_move_nb['breed']=='{breed normals}'].mot_year.value_counts().sort_index().cumsum()\n",
    "# df13_move_nb_normal = df13_move_nb[df13_move_nb['breed']=='{breed normals}'].mot_year.value_counts().sort_index().cumsum()\n",
    "\n",
    "\n",
    "# df11_move_nb_poor = df11_move_nb[df11_move_nb['breed']=='{breed poors}'].mot_year.value_counts().sort_index().cumsum()\n",
    "# df12_move_nb_poor = df12_move_nb[df12_move_nb['breed']=='{breed poors}'].mot_year.value_counts().sort_index().cumsum()\n",
    "# df13_move_nb_poor = df13_move_nb[df13_move_nb['breed']=='{breed poors}'].mot_year.value_counts().sort_index().cumsum()\n"
   ]
  },
  {
   "cell_type": "code",
   "execution_count": null,
   "metadata": {},
   "outputs": [],
   "source": [
    "\n",
    "# df11_move_nb_normal = df11_move_nb[df11_move_nb['breed']=='{breed normals}'].mot_year.value_counts().sort_index()\n",
    "# df12_move_nb_normal = df12_move_nb[df12_move_nb['breed']=='{breed normals}'].mot_year.value_counts().sort_index()\n",
    "# df13_move_nb_normal = df13_move_nb[df13_move_nb['breed']=='{breed normals}'].mot_year.value_counts().sort_index()\n",
    "\n",
    "\n",
    "# df11_move_nb_poor = df11_move_nb[df11_move_nb['breed']=='{breed poors}'].mot_year.value_counts().sort_index()\n",
    "# df12_move_nb_poor = df12_move_nb[df12_move_nb['breed']=='{breed poors}'].mot_year.value_counts().sort_index()\n",
    "# df13_move_nb_poor = df13_move_nb[df13_move_nb['breed']=='{breed poors}'].mot_year.value_counts().sort_index()"
   ]
  },
  {
   "cell_type": "code",
   "execution_count": null,
   "metadata": {},
   "outputs": [],
   "source": [
    "\n",
    "# df11_mmove_nb_normal = df11_nb[df11_nb['breed']=='{breed normals}'].mot_year.value_counts().sort_index().cumsum()\n",
    "# df12_mmove_nb_normal = df12_nb[df12_nb['breed']=='{breed normals}'].mot_year.value_counts().sort_index().cumsum()\n",
    "# df13_mmove_nb_normal = df13_nb[df13_nb['breed']=='{breed normals}'].mot_year.value_counts().sort_index().cumsum()\n",
    "\n",
    "\n",
    "# df11_mmove_nb_poor = df11_nb[df11_nb['breed']=='{breed poors}'].mot_year.value_counts().sort_index().cumsum()\n",
    "# df12_mmove_nb_poor = df12_nb[df12_nb['breed']=='{breed poors}'].mot_year.value_counts().sort_index().cumsum()\n",
    "# df13_mmove_nb_poor = df13_nb[df13_nb['breed']=='{breed poors}'].mot_year.value_counts().sort_index().cumsum()\n"
   ]
  },
  {
   "cell_type": "code",
   "execution_count": null,
   "metadata": {},
   "outputs": [],
   "source": [
    "# df13_mmove_nb_normal"
   ]
  },
  {
   "cell_type": "code",
   "execution_count": null,
   "metadata": {},
   "outputs": [],
   "source": [
    "# len(df13_nb)"
   ]
  },
  {
   "cell_type": "code",
   "execution_count": null,
   "metadata": {},
   "outputs": [],
   "source": [
    "# df13_mmove_nb_poor"
   ]
  },
  {
   "cell_type": "code",
   "execution_count": null,
   "metadata": {},
   "outputs": [],
   "source": [
    "# df13_mmove_nb_poor/len(df13_nb)"
   ]
  },
  {
   "cell_type": "code",
   "execution_count": null,
   "metadata": {},
   "outputs": [],
   "source": [
    "# df13_mmove_nb_normal"
   ]
  },
  {
   "cell_type": "code",
   "execution_count": null,
   "metadata": {},
   "outputs": [],
   "source": [
    "# df13_mmove_nb_normal/len(df13_nb)"
   ]
  },
  {
   "cell_type": "code",
   "execution_count": null,
   "metadata": {},
   "outputs": [],
   "source": [
    "# df13_move_nb_poor"
   ]
  },
  {
   "cell_type": "code",
   "execution_count": null,
   "metadata": {},
   "outputs": [],
   "source": [
    "# # clear current figure\n",
    "# plt.clf()\n",
    "# fig = figure(figsize=(15, 8))\n",
    "# plt.title('Number of motivated moves of the following year (10 year, 3 of 5 neighbors have moved)')\n",
    "\n",
    "# (df11_mmove_nb_normal/len(df11_nb)).plot(color='orange', Marker=\"s\", ds='steps-post')\n",
    "# (df11_mmove_nb_poor/len(df11_nb)).plot(color='orange',Marker=\"+\", ds='steps-post')\n",
    "\n",
    "# (df12_mmove_nb_normal/len(df12_nb)).plot(color='green', Marker=\"s\", ds='steps-post')\n",
    "# (df12_mmove_nb_poor/len(df12_nb)).plot(color='green',Marker=\"+\", ds='steps-post')\n",
    "\n",
    "# (df13_mmove_nb_normal/len(df13_nb)).plot(color='red', Marker=\"s\", ds='steps-post')\n",
    "# (df13_mmove_nb_poor/len(df13_nb)).plot(color='red',Marker=\"+\", ds='steps-post')\n",
    "\n",
    "# plt.xlim([0,80])\n",
    "# # plt.ylim([2600,3800])\n",
    "\n",
    "# plt.ylabel('Number of moves')\n",
    "# plt.xlabel('Relocation year')\n",
    "\n",
    "# plt.legend(labels=['10% Neighborhood effect','Middle income', 'Low income',\n",
    "#                    '30% Neighborhood effect','Middle income', 'Low income',\n",
    "#                    '50% Neighborhood effect','Middle income', 'Low income']) \n",
    "\n",
    "# plt.show()"
   ]
  },
  {
   "cell_type": "code",
   "execution_count": null,
   "metadata": {},
   "outputs": [],
   "source": [
    "df1_nb_Obj = pd.read_csv('10_100_3of5_Obj.csv')\n",
    "df11_nb_Obj = pd.read_csv('10_10_3of5_Obj.csv')\n",
    "df12_nb_Obj = pd.read_csv('10_30_3of5_Obj.csv')\n",
    "df13_nb_Obj = pd.read_csv('10_50_3of5_Obj.csv')"
   ]
  },
  {
   "cell_type": "code",
   "execution_count": null,
   "metadata": {},
   "outputs": [],
   "source": [
    "# clear current figure\n",
    "plt.clf()\n",
    "fig = figure(figsize=(15, 8))\n",
    "plt.title('Objective value of the following year (10 year, 3 of 5 neighbors have moved)')\n",
    "\n",
    "df1_nb_Obj.Objective.plot()\n",
    "df11_nb_Obj.Objective.plot(color='orange')\n",
    "df12_nb_Obj.Objective.plot(color='green')\n",
    "df13_nb_Obj.Objective.plot(color='red')\n",
    "\n",
    "plt.xlim([0,80])\n",
    "\n",
    "plt.ylabel('Objective Value')\n",
    "plt.xlabel('Relocation year')\n",
    "\n",
    "plt.legend(labels=['100% neighborhood effect','10% neighborhood effect','30% neighborhood effect','50% neighborhood effect']) \n",
    "\n",
    "plt.show()\n"
   ]
  },
  {
   "cell_type": "code",
   "execution_count": null,
   "metadata": {},
   "outputs": [],
   "source": []
  },
  {
   "cell_type": "code",
   "execution_count": null,
   "metadata": {},
   "outputs": [],
   "source": []
  },
  {
   "cell_type": "code",
   "execution_count": null,
   "metadata": {},
   "outputs": [],
   "source": [
    "df2 = pd.read_csv('10_100_3of7.csv')\n",
    "df21 = pd.read_csv('10_10_3of7.csv')\n",
    "df22 = pd.read_csv('10_30_3of7.csv')\n",
    "df23 = pd.read_csv('10_50_3of7.csv')"
   ]
  },
  {
   "cell_type": "code",
   "execution_count": null,
   "metadata": {},
   "outputs": [],
   "source": [
    "# To see how much faster does the neighborhood effect does to encourage self-relocation \n",
    "df2['year_diff'] = df2.apply(lambda row: row.ori_year - row.mot_year, axis = 1) \n",
    "df21['year_diff'] = df21.apply(lambda row: row.ori_year - row.mot_year, axis = 1) \n",
    "df22['year_diff'] = df22.apply(lambda row: row.ori_year - row.mot_year, axis = 1) \n",
    "df23['year_diff'] = df23.apply(lambda row: row.ori_year - row.mot_year, axis = 1) \n"
   ]
  },
  {
   "cell_type": "code",
   "execution_count": null,
   "metadata": {},
   "outputs": [],
   "source": [
    "# To see when people (motivated+self) relocate \n",
    "df2_count = df2.mot_year.value_counts().sort_index()\n",
    "df21_count = df21.mot_year.value_counts().sort_index()\n",
    "df22_count = df22.mot_year.value_counts().sort_index()\n",
    "df23_count = df23.mot_year.value_counts().sort_index()\n"
   ]
  },
  {
   "cell_type": "code",
   "execution_count": null,
   "metadata": {},
   "outputs": [],
   "source": [
    "# clear current figure\n",
    "plt.clf()\n",
    "fig = figure(figsize=(15, 8))\n",
    "plt.title('Cumulative moves per year (10-year flooding, 3 of 7  neighbors have moved)')\n",
    "\n",
    "df2_count.cumsum().plot(ds='steps-post')\n",
    "df21_count.cumsum().plot(ds='steps-post')\n",
    "df22_count.cumsum().plot(ds='steps-post')\n",
    "df23_count.cumsum().plot(ds='steps-post')\n",
    "\n",
    "plt.xlim([0,80])\n",
    "plt.ylim([2400,4000])\n",
    "\n",
    "plt.ylabel('Number of moves')\n",
    "plt.xlabel('Relocation year')\n",
    "\n",
    "plt.legend(labels=['100% neighborhood effect','10% neighborhood effect','30% neighborhood effect','50% neighborhood effect']) \n",
    "\n",
    "plt.show()"
   ]
  },
  {
   "cell_type": "code",
   "execution_count": null,
   "metadata": {},
   "outputs": [],
   "source": [
    "df2_count_ori = df2.ori_year.value_counts().sort_index()\n",
    "df21_count_ori = df21.ori_year.value_counts().sort_index()\n",
    "df22_count_ori = df22.ori_year.value_counts().sort_index()\n",
    "df23_count_ori = df23.ori_year.value_counts().sort_index()\n"
   ]
  },
  {
   "cell_type": "code",
   "execution_count": null,
   "metadata": {},
   "outputs": [],
   "source": [
    "fig = figure(figsize=(15, 8))\n",
    "plot2 = plt.figure(1)\n",
    "df21_count.cumsum().plot(ds='steps-post',color ='orange')\n",
    "df2_count.cumsum().plot(ds='steps-post')\n",
    "plt.xlim([0,80])\n",
    "plt.ylim([2000,3500])\n",
    "plt.ylabel('Number of moves')\n",
    "plt.xlabel('Relocation year')\n",
    "plt.legend(labels=['self-moved + 10% neighborhood effect','100% neighborhood effect'])\n",
    "\n",
    "fig = figure(figsize=(15, 8))\n",
    "plot3 = plt.figure(2)\n",
    "df22_count.cumsum().plot(ds='steps-post',color ='green')\n",
    "df2_count.cumsum().plot(ds='steps-post')\n",
    "plt.xlim([0,80])\n",
    "plt.ylim([2000,3500])\n",
    "plt.ylabel('Number of moves')\n",
    "plt.xlabel('Relocation year')\n",
    "plt.legend(labels=['self-moved + 30% neighborhood effect','100% neighborhood effect'])\n",
    "\n",
    "fig = figure(figsize=(15, 8))\n",
    "plot4 = plt.figure(3)\n",
    "df23_count.cumsum().plot(ds='steps-post',color ='red')\n",
    "df2_count.cumsum().plot(ds='steps-post')\n",
    "plt.xlim([0,80])\n",
    "plt.ylim([2000,3500])\n",
    "plt.ylabel('Number of moves')\n",
    "plt.xlabel('Relocation year')\n",
    "plt.legend(labels=['self-moved + 50% neighborhood effect','100% neighborhood effect'])\n",
    "\n",
    "plt.show()"
   ]
  },
  {
   "cell_type": "code",
   "execution_count": null,
   "metadata": {},
   "outputs": [],
   "source": [
    "df2_nb = pd.read_csv('10_100_3of7.csv')\n",
    "df21_nb = pd.read_csv('10_10_3of7.csv')\n",
    "df22_nb = pd.read_csv('10_30_3of7.csv')\n",
    "df23_nb = pd.read_csv('10_50_3of7.csv')\n"
   ]
  },
  {
   "cell_type": "code",
   "execution_count": null,
   "metadata": {},
   "outputs": [],
   "source": [
    "\n",
    "index_name = df21_nb[(df21_nb['normal_inf?'] == '0') & (df21_nb['poor_inf?'] == '0')].index \n",
    "df21_nb.drop(index_name, inplace = True) \n",
    "\n",
    "index_name = df22_nb[(df22_nb['normal_inf?'] == '0') & (df22_nb['poor_inf?'] == '0')].index \n",
    "df22_nb.drop(index_name, inplace = True)\n",
    "\n",
    "index_name = df23_nb[(df23_nb['normal_inf?'] == '0') & (df23_nb['poor_inf?'] == '0')].index \n",
    "df23_nb.drop(index_name, inplace = True)"
   ]
  },
  {
   "cell_type": "code",
   "execution_count": null,
   "metadata": {},
   "outputs": [],
   "source": [
    "index_name = df21_nb[(df21_nb['normal_inf?'] == '0') & (df21_nb['poor_inf?'] == '0')].index \n",
    "df21_nb.drop(index_name, inplace = True) \n",
    "\n",
    "index_name = df22_nb[(df22_nb['normal_inf?'] == '0') & (df22_nb['poor_inf?'] == '0')].index \n",
    "df22_nb.drop(index_name, inplace = True)\n",
    "\n",
    "index_name = df23_nb[(df23_nb['normal_inf?'] == '0') & (df23_nb['poor_inf?'] == '0')].index \n",
    "df23_nb.drop(index_name, inplace = True)\n",
    "\n"
   ]
  },
  {
   "cell_type": "code",
   "execution_count": null,
   "metadata": {},
   "outputs": [],
   "source": [
    "df2_count_nb = df2.mot_year.value_counts().sort_index()\n",
    "df21_count_nb = df21_nb.mot_year.value_counts().sort_index()\n",
    "df22_count_nb = df22_nb.mot_year.value_counts().sort_index()\n",
    "df23_count_nb = df23_nb.mot_year.value_counts().sort_index()\n"
   ]
  },
  {
   "cell_type": "code",
   "execution_count": null,
   "metadata": {},
   "outputs": [],
   "source": [
    "# clear current figure\n",
    "plt.clf()\n",
    "fig = figure(figsize=(15, 8))\n",
    "plt.title('Cumulative number of motivated moves per year (10-year flood, 3 of 7  neighbors have moved)')\n",
    "\n",
    "df21_count_nb.cumsum().plot(ds='steps-post',color ='orange')\n",
    "df22_count_nb.cumsum().plot(ds='steps-post',color ='green')\n",
    "df23_count_nb.cumsum().plot(ds='steps-post',color ='red')\n",
    "\n",
    "plt.xlim([0,80])\n",
    "\n",
    "plt.ylabel('Number of moves')\n",
    "plt.xlabel('Relocation year')\n",
    "\n",
    "plt.legend(labels=['10% neighborhood effect','30% neighborhood effect','50% neighborhood effect','50% neighborhood effect']) \n",
    "\n",
    "plt.show()"
   ]
  },
  {
   "cell_type": "code",
   "execution_count": null,
   "metadata": {},
   "outputs": [],
   "source": [
    "\n",
    "df2_nb_normal = pd.read_csv('10_100_3of7.csv')\n",
    "df21_nb_normal = pd.read_csv('10_10_3of7.csv')\n",
    "df22_nb_normal = pd.read_csv('10_30_3of7.csv')\n",
    "df23_nb_normal = pd.read_csv('10_50_3of7.csv')\n",
    "\n",
    "df2_nb_poor = pd.read_csv('10_100_3of7.csv')\n",
    "df21_nb_poor = pd.read_csv('10_10_3of7.csv')\n",
    "df22_nb_poor = pd.read_csv('10_30_3of7.csv')\n",
    "df23_nb_poor = pd.read_csv('10_50_3of7.csv')"
   ]
  },
  {
   "cell_type": "code",
   "execution_count": null,
   "metadata": {},
   "outputs": [],
   "source": [
    "index_name = df21_nb_normal[(df21_nb_normal['normal_inf?'] == '0')].index \n",
    "df21_nb_normal.drop(index_name, inplace = True) \n",
    "\n",
    "index_name = df22_nb_normal[(df22_nb_normal['normal_inf?'] == '0')].index \n",
    "df22_nb_normal.drop(index_name, inplace = True)\n",
    "\n",
    "index_name = df23_nb_normal[(df23_nb_normal['normal_inf?'] == '0')].index \n",
    "df23_nb_normal.drop(index_name, inplace = True)\n",
    "\n",
    "\n",
    "index_name = df21_nb_poor[(df21_nb_poor['poor_inf?'] == '0')].index \n",
    "df21_nb_poor.drop(index_name, inplace = True) \n",
    "\n",
    "index_name = df22_nb_poor[(df22_nb_poor['poor_inf?'] == '0')].index \n",
    "df22_nb_poor.drop(index_name, inplace = True)\n",
    "\n",
    "index_name = df23_nb_poor[(df23_nb_poor['poor_inf?'] == '0')].index \n",
    "df23_nb_poor.drop(index_name, inplace = True)\n",
    "\n"
   ]
  },
  {
   "cell_type": "code",
   "execution_count": null,
   "metadata": {},
   "outputs": [],
   "source": [
    "\n",
    "df21_count_nb_normal = df21_nb_normal.mot_year.value_counts().sort_index()\n",
    "df22_count_nb_normal = df22_nb_normal.mot_year.value_counts().sort_index()\n",
    "df23_count_nb_normal = df23_nb_normal.mot_year.value_counts().sort_index()\n",
    "\n",
    "\n",
    "df21_count_nb_poor = df21_nb_poor.mot_year.value_counts().sort_index()\n",
    "df22_count_nb_poor = df22_nb_poor.mot_year.value_counts().sort_index()\n",
    "df23_count_nb_poor = df23_nb_poor.mot_year.value_counts().sort_index()\n",
    "\n",
    "\n"
   ]
  },
  {
   "cell_type": "code",
   "execution_count": null,
   "metadata": {},
   "outputs": [],
   "source": [
    "# clear current figure\n",
    "plt.clf()\n",
    "fig = figure(figsize=(15, 8))\n",
    "plt.title('Cumulative Number of motivated moves oer year (10-year flood, 3 of 7 neighbors have moved)')\n",
    "\n",
    "df21_count_nb.cumsum().plot(color='orange', ds='steps-post')\n",
    "df21_count_nb_normal.cumsum().plot(color='orange', Marker=\"s\", ds='steps-post')\n",
    "df21_count_nb_poor.cumsum().plot(color='orange',Marker=\"+\", ds='steps-post')\n",
    "\n",
    "df22_count_nb.cumsum().plot(color='green', ds='steps-post')\n",
    "df22_count_nb_normal.cumsum().plot(color='green', marker=\"s\", ds='steps-post')\n",
    "df22_count_nb_poor.cumsum().plot(color='green', marker=\"+\", ds='steps-post')\n",
    "\n",
    "\n",
    "df23_count_nb.cumsum().plot(color='red', ds='steps-post')\n",
    "df23_count_nb_normal.cumsum().plot(color='red', marker=\"s\", ds='steps-post')\n",
    "df23_count_nb_poor.cumsum().plot(color='red', marker=\"+\", ds='steps-post')\n",
    "\n",
    "plt.xlim([0,80])\n",
    "# plt.ylim([2600,3800])\n",
    "\n",
    "plt.ylabel('Number of moves')\n",
    "plt.xlabel('Relocation year')\n",
    "\n",
    "plt.legend(labels=['10% neighborhood effect','Middle income', 'Low income',\n",
    "                   '30% neighborhood effect','Middle income', 'Low income',\n",
    "                   '50% neighborhood effect','Middle income', 'Low income']) \n",
    "\n",
    "plt.show()"
   ]
  },
  {
   "cell_type": "code",
   "execution_count": null,
   "metadata": {},
   "outputs": [],
   "source": [
    "# clear current figure\n",
    "plt.clf()\n",
    "fig = figure(figsize=(15, 8))\n",
    "plt.title('Cumulative number of middle-income household motivated moves per year (10-year flood, 3 of 7  neighbors have moved)')\n",
    "\n",
    "df21_count_nb_normal.cumsum().plot(color='orange', Marker=\"s\", ds='steps-post')\n",
    "\n",
    "df22_count_nb_normal.cumsum().plot(color='green', marker=\"s\", ds='steps-post')\n",
    "\n",
    "df23_count_nb_normal.cumsum().plot(color='red', marker=\"s\", ds='steps-post')\n",
    "\n",
    "plt.xlim([0,80])\n",
    "# plt.ylim([2600,3800])\n",
    "\n",
    "plt.ylabel('Number of moves')\n",
    "plt.xlabel('Relocation year')\n",
    "\n",
    "plt.legend(labels=['10% neighborhood effect - Middle income',\n",
    "                   '30% neighborhood effect - Middle income',\n",
    "                   '50% neighborhood effect - Middle income']) \n",
    "\n",
    "plt.show()"
   ]
  },
  {
   "cell_type": "code",
   "execution_count": null,
   "metadata": {},
   "outputs": [],
   "source": [
    "# clear current figure\n",
    "plt.clf()\n",
    "fig = figure(figsize=(15, 8))\n",
    "plt.title('Cumulative number of low-income household motivated moves per year (10-year flood, 3 of 7  neighbors have moved)')\n",
    "\n",
    "\n",
    "df21_count_nb_poor.cumsum().plot(color='orange',Marker=\"+\", ds='steps-post')\n",
    "\n",
    "df22_count_nb_poor.cumsum().plot(color='green', marker=\"+\", ds='steps-post')\n",
    "\n",
    "df23_count_nb_poor.cumsum().plot(color='red', marker=\"+\", ds='steps-post')\n",
    "\n",
    "plt.xlim([0,80])\n",
    "# plt.ylim([2600,3800])\n",
    "\n",
    "plt.ylabel('Number of moves')\n",
    "plt.xlabel('Relocation year')\n",
    "\n",
    "plt.legend(labels=['10% neighborhood effect - Low income',\n",
    "                   '30% neighborhood effect - Low income',\n",
    "                   '50% neighborhood effect - Low income']) \n",
    "\n",
    "plt.show()"
   ]
  },
  {
   "cell_type": "code",
   "execution_count": null,
   "metadata": {},
   "outputs": [],
   "source": [
    "df2_nb_Obj = pd.read_csv('10_100_3of7_Obj.csv')\n",
    "df21_nb_Obj = pd.read_csv('10_10_3of7_Obj.csv')\n",
    "df22_nb_Obj = pd.read_csv('10_30_3of7_Obj.csv')\n",
    "df23_nb_Obj = pd.read_csv('10_50_3of7_Obj.csv')"
   ]
  },
  {
   "cell_type": "code",
   "execution_count": null,
   "metadata": {},
   "outputs": [],
   "source": [
    "# clear current figure\n",
    "plt.clf()\n",
    "fig = figure(figsize=(15, 8))\n",
    "plt.title('Objective value of the following year (10 year, 3 of 7 neighbors have moved)')\n",
    "\n",
    "df2_nb_Obj.Objective.plot()\n",
    "df21_nb_Obj.Objective.plot(color='orange')\n",
    "df22_nb_Obj.Objective.plot(color='green')\n",
    "df23_nb_Obj.Objective.plot(color='red')\n",
    "\n",
    "plt.xlim([0,80])\n",
    "\n",
    "plt.ylabel('Objective Value')\n",
    "plt.xlabel('Relocation year')\n",
    "\n",
    "plt.legend(labels=['100% neighborhood effect','10% neighborhood effect','30% neighborhood effect','50% neighborhood effect']) \n",
    "\n",
    "plt.show()\n"
   ]
  },
  {
   "cell_type": "code",
   "execution_count": null,
   "metadata": {},
   "outputs": [],
   "source": []
  },
  {
   "cell_type": "code",
   "execution_count": null,
   "metadata": {},
   "outputs": [],
   "source": []
  },
  {
   "cell_type": "code",
   "execution_count": null,
   "metadata": {},
   "outputs": [],
   "source": [
    "df3 = pd.read_csv('10_100_3of10.csv')\n",
    "df31 = pd.read_csv('10_10_3of10.csv')\n",
    "df32 = pd.read_csv('10_30_3of10.csv')\n",
    "df33 = pd.read_csv('10_50_3of10.csv')"
   ]
  },
  {
   "cell_type": "code",
   "execution_count": null,
   "metadata": {},
   "outputs": [],
   "source": [
    "# To see how much faster does the neighborhood effect does to encourage self-relocation \n",
    "df3['year_diff'] = df3.apply(lambda row: row.ori_year - row.mot_year, axis = 1) \n",
    "df31['year_diff'] = df31.apply(lambda row: row.ori_year - row.mot_year, axis = 1) \n",
    "df32['year_diff'] = df32.apply(lambda row: row.ori_year - row.mot_year, axis = 1) \n",
    "df33['year_diff'] = df33.apply(lambda row: row.ori_year - row.mot_year, axis = 1) \n"
   ]
  },
  {
   "cell_type": "code",
   "execution_count": null,
   "metadata": {},
   "outputs": [],
   "source": [
    "# To see when people (motivated+self) relocate \n",
    "df3_count = df3.mot_year.value_counts().sort_index()\n",
    "df31_count = df31.mot_year.value_counts().sort_index()\n",
    "df32_count = df32.mot_year.value_counts().sort_index()\n",
    "df33_count = df33.mot_year.value_counts().sort_index()\n",
    "# df1_count\n"
   ]
  },
  {
   "cell_type": "code",
   "execution_count": null,
   "metadata": {},
   "outputs": [],
   "source": [
    "# clear current figure\n",
    "plt.clf()\n",
    "fig = figure(figsize=(15, 8))\n",
    "plt.title('Cumulative moves per year (10-year flooding, 3 of 10  neighbors have moved)')\n",
    "\n",
    "df3_count.cumsum().plot(ds='steps-post')\n",
    "df31_count.cumsum().plot(ds='steps-post')\n",
    "df32_count.cumsum().plot(ds='steps-post')\n",
    "df33_count.cumsum().plot(ds='steps-post')\n",
    "\n",
    "plt.xlim([0,90])\n",
    "plt.ylim([2400,4000])\n",
    "\n",
    "plt.ylabel('Number of moves')\n",
    "plt.xlabel('Relocation year')\n",
    "\n",
    "plt.legend(labels=['100% neighborhood effect','10% neighborhood effect','30% neighborhood effect','50% neighborhood effect']) \n",
    "\n",
    "plt.show()"
   ]
  },
  {
   "cell_type": "code",
   "execution_count": null,
   "metadata": {},
   "outputs": [],
   "source": []
  },
  {
   "cell_type": "code",
   "execution_count": null,
   "metadata": {},
   "outputs": [],
   "source": []
  },
  {
   "cell_type": "code",
   "execution_count": null,
   "metadata": {},
   "outputs": [],
   "source": [
    "# clear current figure\n",
    "plt.clf()\n",
    "fig = figure(figsize=(15, 8))\n",
    "plt.title('Cumulative moves per year (10-year flooding, 30% neighborhood effect)')\n",
    "\n",
    "# df1_count.cumsum().plot(ds='steps-post', color = 'blue')\n",
    "# df2_count.cumsum().plot(ds='steps-post', color = 'red')\n",
    "# # df3_count.cumsum().plot(ds='steps-post')\n",
    "\n",
    "# df11_count.cumsum().plot(ds='steps-post', color = 'blue')\n",
    "# df21_count.cumsum().plot(ds='steps-post', color = 'red')\n",
    "# df31_count.cumsum().plot(ds='steps-post')\n",
    "\n",
    "df12_count.cumsum().plot(ds='steps-post', color = 'blue')\n",
    "df22_count.cumsum().plot(ds='steps-post', color = 'red')\n",
    "# # df32_count.cumsum().plot(ds='steps-post')\n",
    "\n",
    "# df13_count.cumsum().plot(ds='steps-post', color = 'blue')\n",
    "# df23_count.cumsum().plot(ds='steps-post', color = 'red')\n",
    "# # df33_count.cumsum().plot(ds='steps-post')\n",
    "\n",
    "plt.xlim([0,80])\n",
    "plt.ylim([2400,3200])\n",
    "\n",
    "plt.ylabel('Number of moves')\n",
    "plt.xlabel('Relocation year')\n",
    "\n",
    "plt.legend(labels=['3 of 5','3 of 7']) \n",
    "\n",
    "plt.show()"
   ]
  },
  {
   "cell_type": "code",
   "execution_count": null,
   "metadata": {},
   "outputs": [],
   "source": [
    "# clear current figure\n",
    "plt.clf()\n",
    "fig = figure(figsize=(15, 8))\n",
    "plt.title('Cumulative moves per year (10-year flooding, 50% neighborhood effect)')\n",
    "\n",
    "# 100%\n",
    "# df1_count.cumsum().plot(ds='steps-post', color = 'blue')\n",
    "# df2_count.cumsum().plot(ds='steps-post', color = 'red')\n",
    "# df3_count.cumsum().plot(ds='steps-post', color = 'green')\n",
    "\n",
    "# 10%\n",
    "# df11_count.cumsum().plot(ds='steps-post', color = 'blue')\n",
    "# df21_count.cumsum().plot(ds='steps-post', color = 'red')\n",
    "# df31_count.cumsum().plot(ds='steps-post', color = 'green')\n",
    "\n",
    "# 30%\n",
    "# df12_count.cumsum().plot(ds='steps-post', color = 'blue')\n",
    "# df22_count.cumsum().plot(ds='steps-post', color = 'red')\n",
    "# df32_count.cumsum().plot(ds='steps-post', color = 'green')\n",
    "\n",
    "# 50%\n",
    "df13_count.cumsum().plot(ds='steps-post', color = 'blue')\n",
    "df23_count.cumsum().plot(ds='steps-post', color = 'red')\n",
    "df33_count.cumsum().plot(ds='steps-post', color = 'green')\n",
    "\n",
    "plt.xlim([0,80])\n",
    "plt.ylim([2400,4000])\n",
    "\n",
    "plt.ylabel('Number of moves')\n",
    "plt.xlabel('Relocation year')\n",
    "\n",
    "plt.legend(labels=['3 of 5','3 of 7','3 of 10']) \n",
    "\n",
    "plt.show()"
   ]
  },
  {
   "cell_type": "code",
   "execution_count": null,
   "metadata": {},
   "outputs": [],
   "source": [
    "df3_nb = pd.read_csv('10_100_3of10.csv')\n",
    "df31_nb = pd.read_csv('10_10_3of10.csv')\n",
    "df32_nb = pd.read_csv('10_30_3of10.csv')\n",
    "df33_nb = pd.read_csv('10_50_3of10.csv')\n"
   ]
  },
  {
   "cell_type": "code",
   "execution_count": null,
   "metadata": {},
   "outputs": [],
   "source": [
    "\n",
    "index_name = df31_nb[(df31_nb['normal_inf?'] == '0') & (df31_nb['poor_inf?'] == '0')].index \n",
    "df31_nb.drop(index_name, inplace = True) \n",
    "\n",
    "index_name = df32_nb[(df32_nb['normal_inf?'] == '0') & (df32_nb['poor_inf?'] == '0')].index \n",
    "df32_nb.drop(index_name, inplace = True)\n",
    "\n",
    "index_name = df33_nb[(df33_nb['normal_inf?'] == '0') & (df33_nb['poor_inf?'] == '0')].index \n",
    "df33_nb.drop(index_name, inplace = True)"
   ]
  },
  {
   "cell_type": "code",
   "execution_count": null,
   "metadata": {},
   "outputs": [],
   "source": [
    "index_name = df31_nb[(df31_nb['normal_inf?'] == '0') & (df31_nb['poor_inf?'] == '0')].index \n",
    "df31_nb.drop(index_name, inplace = True) \n",
    "\n",
    "index_name = df32_nb[(df32_nb['normal_inf?'] == '0') & (df32_nb['poor_inf?'] == '0')].index \n",
    "df32_nb.drop(index_name, inplace = True)\n",
    "\n",
    "index_name = df33_nb[(df33_nb['normal_inf?'] == '0') & (df33_nb['poor_inf?'] == '0')].index \n",
    "df33_nb.drop(index_name, inplace = True)\n",
    "\n"
   ]
  },
  {
   "cell_type": "code",
   "execution_count": null,
   "metadata": {},
   "outputs": [],
   "source": [
    "df3_count_nb = df3.mot_year.value_counts().sort_index()\n",
    "df31_count_nb = df31_nb.mot_year.value_counts().sort_index()\n",
    "df32_count_nb = df32_nb.mot_year.value_counts().sort_index()\n",
    "df33_count_nb = df33_nb.mot_year.value_counts().sort_index()\n",
    "# df12_count_nb\n"
   ]
  },
  {
   "cell_type": "code",
   "execution_count": null,
   "metadata": {},
   "outputs": [],
   "source": [
    "# clear current figure\n",
    "plt.clf()\n",
    "fig = figure(figsize=(15, 8))\n",
    "plt.title('Cumulative number of motivated moves per year (10-year flood, 3 of 10 neighbors have moved)')\n",
    "\n",
    "df31_count_nb.cumsum().plot(ds='steps-post',color ='orange')\n",
    "df32_count_nb.cumsum().plot(ds='steps-post',color ='green')\n",
    "df33_count_nb.cumsum().plot(ds='steps-post',color ='red')\n",
    "\n",
    "plt.xlim([0,80])\n",
    "\n",
    "plt.ylabel('Number of moves')\n",
    "plt.xlabel('Relocation year')\n",
    "\n",
    "plt.legend(labels=['10% neighborhood effect','30% neighborhood effect','50% neighborhood effect','50% neighborhood effect']) \n",
    "\n",
    "plt.show()"
   ]
  },
  {
   "cell_type": "code",
   "execution_count": null,
   "metadata": {},
   "outputs": [],
   "source": []
  }
 ],
 "metadata": {
  "kernelspec": {
   "display_name": "Python 3",
   "language": "python",
   "name": "python3"
  },
  "language_info": {
   "codemirror_mode": {
    "name": "ipython",
    "version": 3
   },
   "file_extension": ".py",
   "mimetype": "text/x-python",
   "name": "python",
   "nbconvert_exporter": "python",
   "pygments_lexer": "ipython3",
   "version": "3.8.3"
  }
 },
 "nbformat": 4,
 "nbformat_minor": 4
}
