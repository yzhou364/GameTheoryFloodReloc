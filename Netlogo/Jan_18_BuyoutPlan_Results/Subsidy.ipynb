{
 "cells": [
  {
   "cell_type": "code",
   "execution_count": 1,
   "metadata": {},
   "outputs": [],
   "source": [
    "import pandas as pd \n",
    "from pandas import DataFrame\n",
    "import numpy as np\n",
    "import random\n",
    "import matplotlib.pyplot as plt\n",
    "from matplotlib.pyplot import plot, show, savefig, xlim, figure, \\\n",
    "                ylim, legend, boxplot, setp, axes"
   ]
  },
  {
   "cell_type": "code",
   "execution_count": 2,
   "metadata": {},
   "outputs": [],
   "source": [
    "df1 = pd.read_csv('01_18_Perc.csv')\n",
    "df2 = pd.read_csv('01_18_Fixed.csv')"
   ]
  },
  {
   "cell_type": "code",
   "execution_count": 3,
   "metadata": {},
   "outputs": [
    {
     "data": {
      "text/html": [
       "<div>\n",
       "<style scoped>\n",
       "    .dataframe tbody tr th:only-of-type {\n",
       "        vertical-align: middle;\n",
       "    }\n",
       "\n",
       "    .dataframe tbody tr th {\n",
       "        vertical-align: top;\n",
       "    }\n",
       "\n",
       "    .dataframe thead th {\n",
       "        text-align: right;\n",
       "    }\n",
       "</style>\n",
       "<table border=\"1\" class=\"dataframe\">\n",
       "  <thead>\n",
       "    <tr style=\"text-align: right;\">\n",
       "      <th></th>\n",
       "      <th>Subsidy_percentage</th>\n",
       "      <th>OBJECTIVE</th>\n",
       "    </tr>\n",
       "  </thead>\n",
       "  <tbody>\n",
       "    <tr>\n",
       "      <th>0</th>\n",
       "      <td>0.03</td>\n",
       "      <td>16800000.0</td>\n",
       "    </tr>\n",
       "    <tr>\n",
       "      <th>1</th>\n",
       "      <td>0.01</td>\n",
       "      <td>16100000.0</td>\n",
       "    </tr>\n",
       "    <tr>\n",
       "      <th>2</th>\n",
       "      <td>0.02</td>\n",
       "      <td>16300000.0</td>\n",
       "    </tr>\n",
       "    <tr>\n",
       "      <th>3</th>\n",
       "      <td>0.00</td>\n",
       "      <td>15600000.0</td>\n",
       "    </tr>\n",
       "    <tr>\n",
       "      <th>4</th>\n",
       "      <td>0.04</td>\n",
       "      <td>17000000.0</td>\n",
       "    </tr>\n",
       "    <tr>\n",
       "      <th>...</th>\n",
       "      <td>...</td>\n",
       "      <td>...</td>\n",
       "    </tr>\n",
       "    <tr>\n",
       "      <th>96</th>\n",
       "      <td>0.96</td>\n",
       "      <td>85700000.0</td>\n",
       "    </tr>\n",
       "    <tr>\n",
       "      <th>97</th>\n",
       "      <td>0.98</td>\n",
       "      <td>87600000.0</td>\n",
       "    </tr>\n",
       "    <tr>\n",
       "      <th>98</th>\n",
       "      <td>0.97</td>\n",
       "      <td>86700000.0</td>\n",
       "    </tr>\n",
       "    <tr>\n",
       "      <th>99</th>\n",
       "      <td>0.99</td>\n",
       "      <td>88400000.0</td>\n",
       "    </tr>\n",
       "    <tr>\n",
       "      <th>100</th>\n",
       "      <td>1.00</td>\n",
       "      <td>89300000.0</td>\n",
       "    </tr>\n",
       "  </tbody>\n",
       "</table>\n",
       "<p>101 rows × 2 columns</p>\n",
       "</div>"
      ],
      "text/plain": [
       "     Subsidy_percentage   OBJECTIVE\n",
       "0                  0.03  16800000.0\n",
       "1                  0.01  16100000.0\n",
       "2                  0.02  16300000.0\n",
       "3                  0.00  15600000.0\n",
       "4                  0.04  17000000.0\n",
       "..                  ...         ...\n",
       "96                 0.96  85700000.0\n",
       "97                 0.98  87600000.0\n",
       "98                 0.97  86700000.0\n",
       "99                 0.99  88400000.0\n",
       "100                1.00  89300000.0\n",
       "\n",
       "[101 rows x 2 columns]"
      ]
     },
     "execution_count": 3,
     "metadata": {},
     "output_type": "execute_result"
    }
   ],
   "source": [
    "df1"
   ]
  },
  {
   "cell_type": "code",
   "execution_count": 4,
   "metadata": {},
   "outputs": [
    {
     "data": {
      "text/html": [
       "<div>\n",
       "<style scoped>\n",
       "    .dataframe tbody tr th:only-of-type {\n",
       "        vertical-align: middle;\n",
       "    }\n",
       "\n",
       "    .dataframe tbody tr th {\n",
       "        vertical-align: top;\n",
       "    }\n",
       "\n",
       "    .dataframe thead th {\n",
       "        text-align: right;\n",
       "    }\n",
       "</style>\n",
       "<table border=\"1\" class=\"dataframe\">\n",
       "  <thead>\n",
       "    <tr style=\"text-align: right;\">\n",
       "      <th></th>\n",
       "      <th>Subsidy</th>\n",
       "      <th>OBJECTIVE</th>\n",
       "    </tr>\n",
       "  </thead>\n",
       "  <tbody>\n",
       "    <tr>\n",
       "      <th>0</th>\n",
       "      <td>10000</td>\n",
       "      <td>16700000.0</td>\n",
       "    </tr>\n",
       "    <tr>\n",
       "      <th>1</th>\n",
       "      <td>30000</td>\n",
       "      <td>19400000.0</td>\n",
       "    </tr>\n",
       "    <tr>\n",
       "      <th>2</th>\n",
       "      <td>20000</td>\n",
       "      <td>17800000.0</td>\n",
       "    </tr>\n",
       "    <tr>\n",
       "      <th>3</th>\n",
       "      <td>0</td>\n",
       "      <td>15600000.0</td>\n",
       "    </tr>\n",
       "    <tr>\n",
       "      <th>4</th>\n",
       "      <td>40000</td>\n",
       "      <td>21400000.0</td>\n",
       "    </tr>\n",
       "    <tr>\n",
       "      <th>...</th>\n",
       "      <td>...</td>\n",
       "      <td>...</td>\n",
       "    </tr>\n",
       "    <tr>\n",
       "      <th>96</th>\n",
       "      <td>960000</td>\n",
       "      <td>595200000.0</td>\n",
       "    </tr>\n",
       "    <tr>\n",
       "      <th>97</th>\n",
       "      <td>970000</td>\n",
       "      <td>601400000.0</td>\n",
       "    </tr>\n",
       "    <tr>\n",
       "      <th>98</th>\n",
       "      <td>980000</td>\n",
       "      <td>607600000.0</td>\n",
       "    </tr>\n",
       "    <tr>\n",
       "      <th>99</th>\n",
       "      <td>990000</td>\n",
       "      <td>613800000.0</td>\n",
       "    </tr>\n",
       "    <tr>\n",
       "      <th>100</th>\n",
       "      <td>1000000</td>\n",
       "      <td>620000000.0</td>\n",
       "    </tr>\n",
       "  </tbody>\n",
       "</table>\n",
       "<p>101 rows × 2 columns</p>\n",
       "</div>"
      ],
      "text/plain": [
       "     Subsidy    OBJECTIVE\n",
       "0      10000   16700000.0\n",
       "1      30000   19400000.0\n",
       "2      20000   17800000.0\n",
       "3          0   15600000.0\n",
       "4      40000   21400000.0\n",
       "..       ...          ...\n",
       "96    960000  595200000.0\n",
       "97    970000  601400000.0\n",
       "98    980000  607600000.0\n",
       "99    990000  613800000.0\n",
       "100  1000000  620000000.0\n",
       "\n",
       "[101 rows x 2 columns]"
      ]
     },
     "execution_count": 4,
     "metadata": {},
     "output_type": "execute_result"
    }
   ],
   "source": [
    "df2"
   ]
  },
  {
   "cell_type": "code",
   "execution_count": 10,
   "metadata": {},
   "outputs": [
    {
     "data": {
      "text/plain": [
       "<Figure size 432x288 with 0 Axes>"
      ]
     },
     "metadata": {},
     "output_type": "display_data"
    },
    {
     "data": {
      "text/plain": [
       "<Figure size 15552x20736 with 0 Axes>"
      ]
     },
     "metadata": {},
     "output_type": "display_data"
    },
    {
     "data": {
      "image/png": "[encoded data removed]",
      "text/plain": [
       "<Figure size 432x288 with 1 Axes>"
      ]
     },
     "metadata": {
      "needs_background": "light"
     },
     "output_type": "display_data"
    }
   ],
   "source": [
    "# clear current figure\n",
    "plt.clf()\n",
    "plt.figure(figsize=(216,288))\n",
    "df1.plot(x = \"Subsidy_percentage\", y = \"OBJECTIVE\")\n",
    "\n",
    "# plt.xlim([0.45,0.47])\n",
    "plt.xlabel('Subsidy Percentage (x100%)')\n",
    "plt.ylabel('Objective Value') \n",
    "plt.title('Objective value for House Price Percentage subsidy')\n",
    "\n",
    "plt.savefig('HP_Perc_Subsidy.png', dpi=300, bbox_inches='tight')\n",
    "plt.show()\n"
   ]
  },
  {
   "cell_type": "code",
   "execution_count": 7,
   "metadata": {},
   "outputs": [
    {
     "data": {
      "text/plain": [
       "<Figure size 432x288 with 0 Axes>"
      ]
     },
     "metadata": {},
     "output_type": "display_data"
    },
    {
     "data": {
      "text/plain": [
       "<Figure size 15552x20736 with 0 Axes>"
      ]
     },
     "metadata": {},
     "output_type": "display_data"
    },
    {
     "data": {
      "image/png": "[encoded data removed]",
      "text/plain": [
       "<Figure size 432x288 with 1 Axes>"
      ]
     },
     "metadata": {
      "needs_background": "light"
     },
     "output_type": "display_data"
    }
   ],
   "source": [
    "# clear current figure\n",
    "plt.clf()\n",
    "plt.figure(figsize=(216,288))\n",
    "df2.plot(x = \"Subsidy\", y = \"OBJECTIVE\")\n",
    "\n",
    "\n",
    "plt.xlabel('Subsidy')\n",
    "plt.ylabel('Objective Value') \n",
    "plt.title('Objective value for fixed amount of subsidy')\n",
    "\n",
    "plt.savefig('HP_Fixed_Subsidy.png', dpi=300, bbox_inches='tight')\n",
    "\n",
    "plt.show()\n"
   ]
  },
  {
   "cell_type": "markdown",
   "metadata": {},
   "source": [
    "# Fixed Percentage of Subsidy"
   ]
  },
  {
   "cell_type": "code",
   "execution_count": 14,
   "metadata": {},
   "outputs": [],
   "source": [
    "df11 = pd.read_csv('10_0p.csv')\n",
    "df12 = pd.read_csv('10_10p.csv')\n",
    "df13 = pd.read_csv('10_30p.csv')\n",
    "df14 = pd.read_csv('10_50p.csv')\n",
    "df15 = pd.read_csv('10_70p.csv')\n",
    "df16 = pd.read_csv('10_100p.csv')"
   ]
  },
  {
   "cell_type": "code",
   "execution_count": 15,
   "metadata": {},
   "outputs": [],
   "source": [
    "# To see when people (motivated+self) relocate \n",
    "df11_count = df11.mot_year.value_counts().sort_index()\n",
    "df12_count = df12.mot_year.value_counts().sort_index()\n",
    "df13_count = df13.mot_year.value_counts().sort_index()\n",
    "df14_count = df14.mot_year.value_counts().sort_index()\n",
    "df15_count = df15.mot_year.value_counts().sort_index()\n",
    "df16_count = df16.mot_year.value_counts().sort_index()\n",
    "# df11_count"
   ]
  },
  {
   "cell_type": "code",
   "execution_count": 16,
   "metadata": {},
   "outputs": [
    {
     "data": {
      "text/plain": [
       "<Figure size 432x288 with 0 Axes>"
      ]
     },
     "metadata": {},
     "output_type": "display_data"
    },
    {
     "data": {
      "image/png": "[encoded data removed]",
      "text/plain": [
       "<Figure size 1080x576 with 1 Axes>"
      ]
     },
     "metadata": {
      "needs_background": "light"
     },
     "output_type": "display_data"
    }
   ],
   "source": [
    "# clear current figure\n",
    "plt.clf()\n",
    "fig = figure(figsize=(15, 8))\n",
    "plt.title('Cumulative (self+motivated) moves per year (10-year flooding)')\n",
    "\n",
    "df11_count.cumsum().plot(ds='steps-post')\n",
    "df12_count.cumsum().plot(ds='steps-post')\n",
    "df13_count.cumsum().plot(ds='steps-post')\n",
    "df14_count.cumsum().plot(ds='steps-post')\n",
    "df15_count.cumsum().plot(ds='steps-post')\n",
    "df16_count.cumsum().plot(ds='steps-post')\n",
    "\n",
    "plt.xlim([0,50])\n",
    "plt.ylim([2400,3000])\n",
    "\n",
    "plt.ylabel('Number of moves')\n",
    "plt.xlabel('Relocation year')\n",
    "\n",
    "plt.legend(labels=['0%','10%','30%','50%','70%','100%']) \n",
    "\n",
    "plt.show()"
   ]
  },
  {
   "cell_type": "code",
   "execution_count": 17,
   "metadata": {},
   "outputs": [],
   "source": [
    "df11_pSub = pd.read_csv('10_0p.csv')\n",
    "df12_pSub = pd.read_csv('10_10p.csv')\n",
    "df13_pSub = pd.read_csv('10_30p.csv')\n",
    "df14_pSub = pd.read_csv('10_50p.csv')\n",
    "df15_pSub = pd.read_csv('10_70p.csv')\n",
    "df16_pSub = pd.read_csv('10_100p.csv')\n",
    "# df16_pSub.head()"
   ]
  },
  {
   "cell_type": "code",
   "execution_count": 18,
   "metadata": {},
   "outputs": [],
   "source": [
    "\n",
    "index_name = df11_pSub[(df11_pSub['mot_year'] == 200)].index \n",
    "df11_pSub.drop(index_name, inplace = True) \n",
    "\n",
    "index_name = df12_pSub[(df12_pSub['mot_year'] == 200)].index  \n",
    "df12_pSub.drop(index_name, inplace = True)\n",
    "\n",
    "index_name = df13_pSub[(df13_pSub['mot_year'] == 200)].index \n",
    "df13_pSub.drop(index_name, inplace = True)\n",
    "\n",
    "index_name = df14_pSub[(df14_pSub['mot_year'] == 200)].index \n",
    "df14_pSub.drop(index_name, inplace = True) \n",
    "\n",
    "index_name = df15_pSub[(df15_pSub['mot_year'] == 200)].index \n",
    "df15_pSub.drop(index_name, inplace = True)\n",
    "\n",
    "index_name = df16_pSub[(df16_pSub['mot_year'] == 200)].index \n",
    "df16_pSub.drop(index_name, inplace = True)\n"
   ]
  },
  {
   "cell_type": "code",
   "execution_count": 29,
   "metadata": {},
   "outputs": [],
   "source": [
    "# df11_pSub"
   ]
  },
  {
   "cell_type": "code",
   "execution_count": 19,
   "metadata": {},
   "outputs": [
    {
     "name": "stdout",
     "output_type": "stream",
     "text": [
      "0% 770902.2430532307\n",
      "10% 770902.2430532307\n",
      "30% 770902.2430532307\n",
      "50% 770902.2430532307\n",
      "70% 770902.2430532307\n",
      "100% 770902.2430532307\n"
     ]
    }
   ],
   "source": [
    "df11_HP_pSub = df11_pSub.total_market_value\n",
    "df12_HP_pSub = df12_pSub.total_market_value\n",
    "df13_HP_pSub = df13_pSub.total_market_value\n",
    "df14_HP_pSub = df14_pSub.total_market_value\n",
    "df15_HP_pSub = df15_pSub.total_market_value\n",
    "df16_HP_pSub = df16_pSub.total_market_value\n",
    "\n",
    "print('0%',df11_HP_pSub.mean())\n",
    "print('10%',df12_HP_pSub.mean())\n",
    "print('30%',df13_HP_pSub.mean())\n",
    "print('50%',df14_HP_pSub.mean())\n",
    "print('70%',df15_HP_pSub.mean())\n",
    "print('100%',df16_HP_pSub.mean())\n",
    "\n"
   ]
  },
  {
   "cell_type": "code",
   "execution_count": 20,
   "metadata": {},
   "outputs": [],
   "source": [
    "\n",
    "df11_normal = df11[df11['breed']=='{breed normals}'].mot_year.value_counts().sort_index()\n",
    "df12_normal = df12[df12['breed']=='{breed normals}'].mot_year.value_counts().sort_index()\n",
    "df13_normal = df13[df13['breed']=='{breed normals}'].mot_year.value_counts().sort_index()\n",
    "df14_normal = df14[df14['breed']=='{breed normals}'].mot_year.value_counts().sort_index()\n",
    "df15_normal = df15[df15['breed']=='{breed normals}'].mot_year.value_counts().sort_index()\n",
    "df16_normal = df16[df16['breed']=='{breed normals}'].mot_year.value_counts().sort_index()\n",
    "\n",
    "df11_poor = df11[df11['breed']=='{breed poors}'].mot_year.value_counts().sort_index()\n",
    "df12_poor = df12[df12['breed']=='{breed poors}'].mot_year.value_counts().sort_index()\n",
    "df13_poor = df13[df13['breed']=='{breed poors}'].mot_year.value_counts().sort_index()\n",
    "df14_poor = df14[df14['breed']=='{breed poors}'].mot_year.value_counts().sort_index()\n",
    "df15_poor = df15[df15['breed']=='{breed poors}'].mot_year.value_counts().sort_index()\n",
    "df16_poor = df16[df16['breed']=='{breed poors}'].mot_year.value_counts().sort_index()\n"
   ]
  },
  {
   "cell_type": "code",
   "execution_count": 21,
   "metadata": {},
   "outputs": [
    {
     "data": {
      "text/plain": [
       "<Figure size 432x288 with 0 Axes>"
      ]
     },
     "metadata": {},
     "output_type": "display_data"
    },
    {
     "data": {
      "image/png": "[encoded data removed]",
      "text/plain": [
       "<Figure size 1080x576 with 1 Axes>"
      ]
     },
     "metadata": {
      "needs_background": "light"
     },
     "output_type": "display_data"
    }
   ],
   "source": [
    "# clear current figure\n",
    "plt.clf()\n",
    "fig = figure(figsize=(15, 8))\n",
    "plt.title('Cumulative Number of Motivated Moves by Fixed Amount of Percentage (10-year flood)')\n",
    "\n",
    "df11_count.cumsum().plot(color='orange', ds='steps-post')\n",
    "df11_normal.cumsum().plot(color='orange', Marker=\"s\", ds='steps-post')\n",
    "df11_poor.cumsum().plot(color='orange',Marker=\"+\", ds='steps-post')\n",
    "\n",
    "df12_count.cumsum().plot(color='green', ds='steps-post')\n",
    "df12_normal.cumsum().plot(color='green', marker=\"s\", ds='steps-post')\n",
    "df12_poor.cumsum().plot(color='green', marker=\"+\", ds='steps-post')\n",
    "\n",
    "df13_count.cumsum().plot(color='red', ds='steps-post')\n",
    "df13_normal.cumsum().plot(color='red', marker=\"s\", ds='steps-post')\n",
    "df13_poor.cumsum().plot(color='red', marker=\"+\", ds='steps-post')\n",
    "\n",
    "df14_count.cumsum().plot(color='blue', ds='steps-post')\n",
    "df14_normal.cumsum().plot(color='blue', Marker=\"s\", ds='steps-post')\n",
    "df14_poor.cumsum().plot(color='blue',Marker=\"+\", ds='steps-post')\n",
    "\n",
    "df15_count.cumsum().plot(color='black', ds='steps-post')\n",
    "df15_normal.cumsum().plot(color='black', marker=\"s\", ds='steps-post')\n",
    "df15_poor.cumsum().plot(color='black', marker=\"+\", ds='steps-post')\n",
    "\n",
    "df16_count.cumsum().plot(color='pink', ds='steps-post')\n",
    "df16_normal.cumsum().plot(color='pink', marker=\"s\", ds='steps-post')\n",
    "df16_poor.cumsum().plot(color='pink', marker=\"+\", ds='steps-post')\n",
    "\n",
    "plt.xlim([0,15])\n",
    "plt.ylim([0,3800])\n",
    "\n",
    "plt.ylabel('Number of moves')\n",
    "plt.xlabel('Relocation year')\n",
    "\n",
    "plt.legend(labels=['0%','Middle income', 'Low income',\n",
    "                   '10%','Middle income', 'Low income',\n",
    "                   '30%','Middle income', 'Low income',\n",
    "                   '50%','Middle income', 'Low income',\n",
    "                   '70%','Middle income', 'Low income',\n",
    "                   '100%','Middle income', 'Low income',]) \n",
    "\n",
    "plt.show()\n"
   ]
  },
  {
   "cell_type": "code",
   "execution_count": 22,
   "metadata": {},
   "outputs": [
    {
     "data": {
      "text/plain": [
       "<Figure size 432x288 with 0 Axes>"
      ]
     },
     "metadata": {},
     "output_type": "display_data"
    },
    {
     "data": {
      "image/png": "[encoded data removed]",
      "text/plain": [
       "<Figure size 1080x576 with 1 Axes>"
      ]
     },
     "metadata": {
      "needs_background": "light"
     },
     "output_type": "display_data"
    }
   ],
   "source": [
    "# clear current figure\n",
    "plt.clf()\n",
    "fig = figure(figsize=(15, 8))\n",
    "plt.title('Cumulative Number of Motivated Moves by Fixed Amount of Percentage (10-year flood, middle-income)')\n",
    "\n",
    "df11_normal.cumsum().plot(color='orange', Marker=\"s\", ds='steps-post')\n",
    "\n",
    "df12_normal.cumsum().plot(color='green', marker=\"s\", ds='steps-post')\n",
    "\n",
    "df13_normal.cumsum().plot(color='red', marker=\"s\", ds='steps-post')\n",
    "\n",
    "df14_normal.cumsum().plot(color='blue', Marker=\"s\", ds='steps-post')\n",
    "\n",
    "df15_normal.cumsum().plot(color='black', marker=\"s\", ds='steps-post')\n",
    "\n",
    "df16_normal.cumsum().plot(color='pink', marker=\"s\", ds='steps-post')\n",
    "\n",
    "\n",
    "plt.xlim([0,15])\n",
    "plt.ylim([0,3800])\n",
    "\n",
    "plt.ylabel('Number of moves')\n",
    "plt.xlabel('Relocation year')\n",
    "\n",
    "plt.legend(labels=['0%','10%','30%','50%','70%','100%']) \n",
    "\n",
    "plt.show()\n"
   ]
  },
  {
   "cell_type": "code",
   "execution_count": 23,
   "metadata": {},
   "outputs": [
    {
     "data": {
      "text/plain": [
       "<Figure size 432x288 with 0 Axes>"
      ]
     },
     "metadata": {},
     "output_type": "display_data"
    },
    {
     "data": {
      "image/png": "[encoded data removed]",
      "text/plain": [
       "<Figure size 1080x576 with 1 Axes>"
      ]
     },
     "metadata": {
      "needs_background": "light"
     },
     "output_type": "display_data"
    }
   ],
   "source": [
    "# clear current figure\n",
    "plt.clf()\n",
    "fig = figure(figsize=(15, 8))\n",
    "plt.title('Cumulative Number of Motivated Moves by Fixed Amount of Percentage (10-year flood, low-income)')\n",
    "\n",
    "df11_poor.cumsum().plot(color='orange',Marker=\"+\", ds='steps-post')\n",
    "\n",
    "df12_poor.cumsum().plot(color='green', marker=\"+\", ds='steps-post')\n",
    "\n",
    "df13_poor.cumsum().plot(color='red', marker=\"+\", ds='steps-post')\n",
    "\n",
    "df14_poor.cumsum().plot(color='blue',Marker=\"+\", ds='steps-post')\n",
    "\n",
    "df15_poor.cumsum().plot(color='black', marker=\"+\", ds='steps-post')\n",
    "\n",
    "df16_poor.cumsum().plot(color='pink', marker=\"+\", ds='steps-post')\n",
    "\n",
    "\n",
    "# plt.xlim([0,15])\n",
    "# plt.ylim([0,500])\n",
    "\n",
    "plt.ylabel('Number of moves')\n",
    "plt.xlabel('Relocation year')\n",
    "\n",
    "plt.legend(labels=['0%','10%','30%','50%','70%','100%']) \n",
    "\n",
    "plt.show()\n"
   ]
  },
  {
   "cell_type": "code",
   "execution_count": 24,
   "metadata": {},
   "outputs": [],
   "source": [
    "# To see how much faster does the neighborhood effect does to encourage self-relocation \n",
    "df11['year_diff'] = df11.apply(lambda row: row.mot_year - row.ori_year, axis = 1)\n",
    "df12['year_diff'] = df12.apply(lambda row: row.mot_year - row.ori_year, axis = 1)\n",
    "df13['year_diff'] = df13.apply(lambda row: row.mot_year - row.ori_year, axis = 1)\n",
    "df14['year_diff'] = df14.apply(lambda row: row.mot_year - row.ori_year, axis = 1)\n",
    "df15['year_diff'] = df15.apply(lambda row: row.mot_year - row.ori_year, axis = 1)\n",
    "df16['year_diff'] = df16.apply(lambda row: row.mot_year - row.ori_year, axis = 1)\n",
    "\n"
   ]
  },
  {
   "cell_type": "code",
   "execution_count": 25,
   "metadata": {},
   "outputs": [
    {
     "data": {
      "text/plain": [
       "<Figure size 432x288 with 0 Axes>"
      ]
     },
     "metadata": {},
     "output_type": "display_data"
    },
    {
     "data": {
      "image/png": "[encoded data removed]",
      "text/plain": [
       "<Figure size 1080x576 with 1 Axes>"
      ]
     },
     "metadata": {
      "needs_background": "light"
     },
     "output_type": "display_data"
    }
   ],
   "source": [
    "# clear current figure\n",
    "plt.clf()\n",
    "fig = figure(figsize=(15, 8))\n",
    "plt.title('Motivated moved-year reduction (10-year flooding)')\n",
    "\n",
    "df11.year_diff.value_counts().sort_index().cumsum().plot(ds='steps-post')\n",
    "df12.year_diff.value_counts().sort_index().cumsum().plot(ds='steps-post')\n",
    "df13.year_diff.value_counts().sort_index().cumsum().plot(ds='steps-post')\n",
    "df14.year_diff.value_counts().sort_index().cumsum().plot(ds='steps-post')\n",
    "df15.year_diff.value_counts().sort_index().cumsum().plot(ds='steps-post')\n",
    "df16.year_diff.value_counts().sort_index().cumsum().plot(ds='steps-post')\n",
    "\n",
    "# plt.xlim([-25,-1])\n",
    "# plt.ylim([0,500])\n",
    "\n",
    "plt.ylabel('Number of moves')\n",
    "plt.xlabel('Year Reduction')\n",
    "\n",
    "plt.legend(labels=['0%','10%','30%','50%','70%','100%']) \n",
    "\n",
    "plt.show()"
   ]
  },
  {
   "cell_type": "code",
   "execution_count": null,
   "metadata": {},
   "outputs": [],
   "source": []
  },
  {
   "cell_type": "markdown",
   "metadata": {},
   "source": [
    "## Fixed Percentage of Subsidy: Objective"
   ]
  },
  {
   "cell_type": "code",
   "execution_count": 26,
   "metadata": {},
   "outputs": [],
   "source": [
    "df111 = pd.read_csv('10_0p_Obj.csv')\n",
    "df112 = pd.read_csv('10_10p_Obj.csv')\n",
    "df113 = pd.read_csv('10_30p_Obj.csv')\n",
    "df114 = pd.read_csv('10_50p_Obj.csv')\n",
    "df115 = pd.read_csv('10_70p_Obj.csv')\n",
    "df116 = pd.read_csv('10_100p_Obj.csv')"
   ]
  },
  {
   "cell_type": "code",
   "execution_count": 27,
   "metadata": {},
   "outputs": [
    {
     "data": {
      "text/plain": [
       "<Figure size 432x288 with 0 Axes>"
      ]
     },
     "metadata": {},
     "output_type": "display_data"
    },
    {
     "data": {
      "image/png": "[encoded data removed]",
      "text/plain": [
       "<Figure size 1080x576 with 1 Axes>"
      ]
     },
     "metadata": {
      "needs_background": "light"
     },
     "output_type": "display_data"
    }
   ],
   "source": [
    "# clear current figure\n",
    "plt.clf()\n",
    "fig = figure(figsize=(15, 8))\n",
    "plt.title('Objective value by subsidy Percentage of the following year (10 year)')\n",
    "\n",
    "df111.OBJECTIVE.plot()\n",
    "df112.OBJECTIVE.plot()\n",
    "df113.OBJECTIVE.plot()\n",
    "df114.OBJECTIVE.plot()\n",
    "df115.OBJECTIVE.plot()\n",
    "df115.OBJECTIVE.plot()\n",
    "\n",
    "# plt.xlim([0,80])\n",
    "\n",
    "plt.ylabel('Objective Value')\n",
    "plt.xlabel('Relocation year')\n",
    "\n",
    "plt.legend(labels=['0%','10%','30%','50%','70%','100%']) \n",
    "\n",
    "plt.show()\n"
   ]
  },
  {
   "cell_type": "code",
   "execution_count": null,
   "metadata": {},
   "outputs": [],
   "source": []
  },
  {
   "cell_type": "markdown",
   "metadata": {},
   "source": [
    "# Fixed Amount of Subsidy"
   ]
  },
  {
   "cell_type": "code",
   "execution_count": null,
   "metadata": {},
   "outputs": [],
   "source": [
    "df21 = pd.read_csv('10_0k.csv')\n",
    "df22 = pd.read_csv('10_200k.csv')\n",
    "df23 = pd.read_csv('10_400k.csv')\n",
    "df24 = pd.read_csv('10_600k.csv')\n",
    "df25 = pd.read_csv('10_700k.csv')\n",
    "df26 = pd.read_csv('10_800k.csv')\n",
    "df27 = pd.read_csv('10_1000k.csv')\n"
   ]
  },
  {
   "cell_type": "code",
   "execution_count": null,
   "metadata": {},
   "outputs": [],
   "source": [
    "# To see when people (motivated+self) relocate \n",
    "df21_count = df21.mot_year.value_counts().sort_index()\n",
    "df22_count = df22.mot_year.value_counts().sort_index()\n",
    "df23_count = df23.mot_year.value_counts().sort_index()\n",
    "df24_count = df24.mot_year.value_counts().sort_index()\n",
    "df25_count = df25.mot_year.value_counts().sort_index()\n",
    "df26_count = df26.mot_year.value_counts().sort_index()\n",
    "df27_count = df27.mot_year.value_counts().sort_index()\n",
    "df24_count"
   ]
  },
  {
   "cell_type": "code",
   "execution_count": null,
   "metadata": {},
   "outputs": [],
   "source": [
    "# clear current figure\n",
    "plt.clf()\n",
    "fig = figure(figsize=(15, 8))\n",
    "plt.title('Cumulative (self+motivated) moves per year (10-year flooding)')\n",
    "\n",
    "df21_count.cumsum().plot(ds='steps-post')\n",
    "df22_count.cumsum().plot(ds='steps-post')\n",
    "df23_count.cumsum().plot(ds='steps-post')\n",
    "df24_count.cumsum().plot(ds='steps-post')\n",
    "df25_count.cumsum().plot(ds='steps-post')\n",
    "df26_count.cumsum().plot(ds='steps-post')\n",
    "df27_count.cumsum().plot(ds='steps-post')\n",
    "\n",
    "# plt.xlim([45,50])\n",
    "# plt.ylim([2986,2988])\n",
    "\n",
    "plt.ylabel('Number of moves')\n",
    "plt.xlabel('Relocation year')\n",
    "\n",
    "plt.legend(labels=['0k','200k','400k','600k','700k','800k','1M']) \n",
    "\n",
    "plt.show()"
   ]
  },
  {
   "cell_type": "code",
   "execution_count": null,
   "metadata": {},
   "outputs": [],
   "source": [
    "df21_fSub = pd.read_csv('10_0k.csv')\n",
    "df22_fSub = pd.read_csv('10_200k.csv')\n",
    "df23_fSub = pd.read_csv('10_400k.csv')\n",
    "df24_fSub = pd.read_csv('10_600k.csv')\n",
    "df25_fSub = pd.read_csv('10_700k.csv')\n",
    "df26_fSub = pd.read_csv('10_800k.csv')\n",
    "df27_fSub = pd.read_csv('10_1000k.csv')\n",
    "# df26_fSub.head()"
   ]
  },
  {
   "cell_type": "code",
   "execution_count": null,
   "metadata": {},
   "outputs": [],
   "source": [
    "\n",
    "index_name = df21_fSub[(df21_fSub['mot_year'] == 200)].index \n",
    "df21_fSub.drop(index_name, inplace = True) \n",
    "\n",
    "index_name = df22_fSub[(df22_fSub['mot_year'] == 200)].index  \n",
    "df22_fSub.drop(index_name, inplace = True)\n",
    "\n",
    "index_name = df23_fSub[(df23_fSub['mot_year'] == 200)].index \n",
    "df23_fSub.drop(index_name, inplace = True)\n",
    "\n",
    "index_name = df24_fSub[(df24_fSub['mot_year'] == 200)].index \n",
    "df24_fSub.drop(index_name, inplace = True) \n",
    "\n",
    "index_name = df25_fSub[(df25_fSub['mot_year'] == 200)].index \n",
    "df25_fSub.drop(index_name, inplace = True)\n",
    "\n",
    "index_name = df26_fSub[(df26_fSub['mot_year'] == 200)].index \n",
    "df26_fSub.drop(index_name, inplace = True)\n",
    "\n",
    "index_name = df27_fSub[(df27_fSub['mot_year'] == 200)].index \n",
    "df27_fSub.drop(index_name, inplace = True)\n"
   ]
  },
  {
   "cell_type": "code",
   "execution_count": null,
   "metadata": {},
   "outputs": [],
   "source": [
    "df21_HP_fSub = df21_fSub.total_market_value\n",
    "df22_HP_fSub = df22_fSub.total_market_value\n",
    "df23_HP_fSub = df23_fSub.total_market_value\n",
    "df24_HP_fSub = df24_fSub.total_market_value\n",
    "df25_HP_fSub = df25_fSub.total_market_value\n",
    "df26_HP_fSub = df26_fSub.total_market_value\n",
    "df27_HP_fSub = df27_fSub.total_market_value\n",
    "\n",
    "print('0k',df21_HP_fSub.mean())\n",
    "print('200k',df22_HP_fSub.mean())\n",
    "print('400k',df23_HP_fSub.mean())\n",
    "print('600k',df24_HP_fSub.mean())\n",
    "print('700k',df25_HP_fSub.mean())\n",
    "print('800k',df26_HP_fSub.mean())\n",
    "print('1000k',df27_HP_fSub.mean())\n",
    "\n"
   ]
  },
  {
   "cell_type": "code",
   "execution_count": null,
   "metadata": {},
   "outputs": [],
   "source": [
    "\n",
    "df21_normal = df21[df21['breed']=='{breed normals}'].mot_year.value_counts().sort_index()\n",
    "df22_normal = df22[df22['breed']=='{breed normals}'].mot_year.value_counts().sort_index()\n",
    "df23_normal = df23[df23['breed']=='{breed normals}'].mot_year.value_counts().sort_index()\n",
    "df24_normal = df24[df24['breed']=='{breed normals}'].mot_year.value_counts().sort_index()\n",
    "df25_normal = df25[df25['breed']=='{breed normals}'].mot_year.value_counts().sort_index()\n",
    "df26_normal = df26[df26['breed']=='{breed normals}'].mot_year.value_counts().sort_index()\n",
    "df27_normal = df27[df27['breed']=='{breed normals}'].mot_year.value_counts().sort_index()\n",
    "\n",
    "df21_poor = df21[df21['breed']=='{breed poors}'].mot_year.value_counts().sort_index()\n",
    "df22_poor = df22[df22['breed']=='{breed poors}'].mot_year.value_counts().sort_index()\n",
    "df23_poor = df23[df23['breed']=='{breed poors}'].mot_year.value_counts().sort_index()\n",
    "df24_poor = df24[df24['breed']=='{breed poors}'].mot_year.value_counts().sort_index()\n",
    "df25_poor = df25[df25['breed']=='{breed poors}'].mot_year.value_counts().sort_index()\n",
    "df26_poor = df26[df26['breed']=='{breed poors}'].mot_year.value_counts().sort_index()\n",
    "df27_poor = df27[df27['breed']=='{breed poors}'].mot_year.value_counts().sort_index()\n"
   ]
  },
  {
   "cell_type": "code",
   "execution_count": null,
   "metadata": {},
   "outputs": [],
   "source": [
    "# clear current figure\n",
    "plt.clf()\n",
    "fig = figure(figsize=(15, 8))\n",
    "plt.title('Cumulative Number of Motivated Moves by Fixed Amount of Percentage (10-year flood)')\n",
    "\n",
    "df21_count.cumsum().plot(color='orange', ds='steps-post')\n",
    "df21_normal.cumsum().plot(color='orange', Marker=\"s\", ds='steps-post')\n",
    "df21_poor.cumsum().plot(color='orange',Marker=\"+\", ds='steps-post')\n",
    "\n",
    "df22_count.cumsum().plot(color='green', ds='steps-post')\n",
    "df22_normal.cumsum().plot(color='green', marker=\"s\", ds='steps-post')\n",
    "df22_poor.cumsum().plot(color='green', marker=\"+\", ds='steps-post')\n",
    "\n",
    "df23_count.cumsum().plot(color='red', ds='steps-post')\n",
    "df23_normal.cumsum().plot(color='red', marker=\"s\", ds='steps-post')\n",
    "df23_poor.cumsum().plot(color='red', marker=\"+\", ds='steps-post')\n",
    "\n",
    "df24_count.cumsum().plot(color='blue', ds='steps-post')\n",
    "df24_normal.cumsum().plot(color='blue', Marker=\"s\", ds='steps-post')\n",
    "df24_poor.cumsum().plot(color='blue',Marker=\"+\", ds='steps-post')\n",
    "\n",
    "df25_count.cumsum().plot(color='black', ds='steps-post')\n",
    "df25_normal.cumsum().plot(color='black', marker=\"s\", ds='steps-post')\n",
    "df25_poor.cumsum().plot(color='black', marker=\"+\", ds='steps-post')\n",
    "\n",
    "df26_count.cumsum().plot(color='pink', ds='steps-post')\n",
    "df26_normal.cumsum().plot(color='pink', marker=\"s\", ds='steps-post')\n",
    "df26_poor.cumsum().plot(color='pink', marker=\"+\", ds='steps-post')\n",
    "\n",
    "df27_count.cumsum().plot(color='purple', ds='steps-post')\n",
    "df27_normal.cumsum().plot(color='purple', marker=\"s\", ds='steps-post')\n",
    "df27_poor.cumsum().plot(color='purple', marker=\"+\", ds='steps-post')\n",
    "\n",
    "plt.xlim([0,15])\n",
    "plt.ylim([0,3800])\n",
    "\n",
    "plt.ylabel('Number of moves')\n",
    "plt.xlabel('Relocation year')\n",
    "\n",
    "plt.legend(labels=['0k','Middle income', 'Low income',\n",
    "                   '200k','Middle income', 'Low income',\n",
    "                   '400k','Middle income', 'Low income',\n",
    "                   '600k','Middle income', 'Low income',\n",
    "                   '700k','Middle income', 'Low income',\n",
    "                   '800k','Middle income', 'Low income',\n",
    "                   '1M','Middle income', 'Low income',]) \n",
    "\n",
    "plt.show()\n"
   ]
  },
  {
   "cell_type": "code",
   "execution_count": null,
   "metadata": {},
   "outputs": [],
   "source": [
    "# clear current figure\n",
    "plt.clf()\n",
    "fig = figure(figsize=(15, 8))\n",
    "plt.title('Cumulative Number of Motivated Moves by Fixed Amount of Percentage (10-year flood, middle-income)')\n",
    "\n",
    "df21_normal.cumsum().plot(color='orange', Marker=\"s\", ds='steps-post')\n",
    "\n",
    "df22_normal.cumsum().plot(color='green', marker=\"s\", ds='steps-post')\n",
    "\n",
    "df23_normal.cumsum().plot(color='red', marker=\"s\", ds='steps-post')\n",
    "\n",
    "df24_normal.cumsum().plot(color='blue', Marker=\"s\", ds='steps-post')\n",
    "\n",
    "df25_normal.cumsum().plot(color='black', marker=\"s\", ds='steps-post')\n",
    "\n",
    "df26_normal.cumsum().plot(color='pink', marker=\"s\", ds='steps-post')\n",
    "\n",
    "df27_normal.cumsum().plot(color='purple', marker=\"s\", ds='steps-post')\n",
    "\n",
    "plt.xlim([0,15])\n",
    "plt.ylim([0,3800])\n",
    "\n",
    "plt.ylabel('Number of moves')\n",
    "plt.xlabel('Relocation year')\n",
    "\n",
    "plt.legend(labels=['0k','200k','400k','600k','700k','800k','1M']) \n",
    "\n",
    "plt.show()\n"
   ]
  },
  {
   "cell_type": "code",
   "execution_count": null,
   "metadata": {},
   "outputs": [],
   "source": [
    "# clear current figure\n",
    "plt.clf()\n",
    "fig = figure(figsize=(15, 8))\n",
    "plt.title('Cumulative Number of Motivated Moves by Fixed Amount of Percentage (10-year flood, low-income)')\n",
    "\n",
    "df21_poor.cumsum().plot(color='orange',Marker=\"+\", ds='steps-post')\n",
    "\n",
    "df22_poor.cumsum().plot(color='green', marker=\"+\", ds='steps-post')\n",
    "\n",
    "df23_poor.cumsum().plot(color='red', marker=\"+\", ds='steps-post')\n",
    "\n",
    "df24_poor.cumsum().plot(color='blue',Marker=\"+\", ds='steps-post')\n",
    "\n",
    "df25_poor.cumsum().plot(color='black', marker=\"+\", ds='steps-post')\n",
    "\n",
    "df26_poor.cumsum().plot(color='pink', marker=\"+\", ds='steps-post')\n",
    "\n",
    "df27_poor.cumsum().plot(color='purple', marker=\"+\", ds='steps-post')\n",
    "\n",
    "# plt.xlim([0,15])\n",
    "# plt.ylim([0,500])\n",
    "\n",
    "plt.ylabel('Number of moves')\n",
    "plt.xlabel('Relocation year')\n",
    "\n",
    "plt.legend(labels=['0k','200k','400k','600k','700k','800k','1M']) \n",
    "\n",
    "plt.show()\n"
   ]
  },
  {
   "cell_type": "code",
   "execution_count": null,
   "metadata": {},
   "outputs": [],
   "source": [
    "# To see how much faster does the neighborhood effect does to encourage self-relocation \n",
    "df21['year_diff'] = df21.apply(lambda row: row.mot_year - row.ori_year, axis = 1)\n",
    "df22['year_diff'] = df22.apply(lambda row: row.mot_year - row.ori_year, axis = 1)\n",
    "df23['year_diff'] = df23.apply(lambda row: row.mot_year - row.ori_year, axis = 1)\n",
    "df24['year_diff'] = df24.apply(lambda row: row.mot_year - row.ori_year, axis = 1)\n",
    "df25['year_diff'] = df25.apply(lambda row: row.mot_year - row.ori_year, axis = 1)\n",
    "df26['year_diff'] = df26.apply(lambda row: row.mot_year - row.ori_year, axis = 1)\n",
    "df27['year_diff'] = df27.apply(lambda row: row.mot_year - row.ori_year, axis = 1)\n"
   ]
  },
  {
   "cell_type": "code",
   "execution_count": null,
   "metadata": {},
   "outputs": [],
   "source": [
    "# clear current figure\n",
    "plt.clf()\n",
    "fig = figure(figsize=(15, 8))\n",
    "plt.title('Motivated moved-year reduction (10-year flooding)')\n",
    "\n",
    "df21.year_diff.value_counts().sort_index().cumsum().plot(ds='steps-post')\n",
    "df22.year_diff.value_counts().sort_index().cumsum().plot(ds='steps-post')\n",
    "df23.year_diff.value_counts().sort_index().cumsum().plot(ds='steps-post')\n",
    "df24.year_diff.value_counts().sort_index().cumsum().plot(ds='steps-post')\n",
    "df25.year_diff.value_counts().sort_index().cumsum().plot(ds='steps-post')\n",
    "df26.year_diff.value_counts().sort_index().cumsum().plot(ds='steps-post')\n",
    "df27.year_diff.value_counts().sort_index().cumsum().plot(ds='steps-post')\n",
    "\n",
    "# plt.xlim([-25,-1])\n",
    "# plt.ylim([0,500])\n",
    "\n",
    "plt.ylabel('Number of moves')\n",
    "plt.xlabel('Year Reduction')\n",
    "\n",
    "plt.legend(labels=['0k','200k','400k','600k','700k','800k','1M']) \n",
    "\n",
    "plt.show()"
   ]
  },
  {
   "cell_type": "markdown",
   "metadata": {},
   "source": [
    "## Fixed Amount of Subsidy: Objective"
   ]
  },
  {
   "cell_type": "code",
   "execution_count": null,
   "metadata": {},
   "outputs": [],
   "source": [
    "df221 = pd.read_csv('10_0k_Obj.csv')\n",
    "df222 = pd.read_csv('10_200k_Obj.csv')\n",
    "df223 = pd.read_csv('10_400k_Obj.csv')\n",
    "df224 = pd.read_csv('10_600k_Obj.csv')\n",
    "df225 = pd.read_csv('10_700k_Obj.csv')\n",
    "df226 = pd.read_csv('10_800k_Obj.csv')\n",
    "df227 = pd.read_csv('10_1000k_Obj.csv')"
   ]
  },
  {
   "cell_type": "code",
   "execution_count": null,
   "metadata": {},
   "outputs": [],
   "source": [
    "# clear current figure\n",
    "plt.clf()\n",
    "fig = figure(figsize=(15, 8))\n",
    "plt.title('Objective value of the following year (10 year)')\n",
    "\n",
    "df221.OBJECTIVE.plot()\n",
    "df222.OBJECTIVE.plot()\n",
    "df223.OBJECTIVE.plot()\n",
    "df224.OBJECTIVE.plot()\n",
    "df225.OBJECTIVE.plot()\n",
    "df226.OBJECTIVE.plot()\n",
    "df227.OBJECTIVE.plot()\n",
    "\n",
    "# plt.xlim([0,80])\n",
    "\n",
    "plt.ylabel('Objective Value')\n",
    "plt.xlabel('Subsidy')\n",
    "\n",
    "plt.legend(labels=['0k','200k','400k','600k','700k','800k','1m']) \n",
    "\n",
    "plt.show()\n"
   ]
  },
  {
   "cell_type": "code",
   "execution_count": null,
   "metadata": {},
   "outputs": [],
   "source": []
  },
  {
   "cell_type": "code",
   "execution_count": null,
   "metadata": {},
   "outputs": [],
   "source": [
    "# clear current figure\n",
    "plt.clf()\n",
    "fig = figure(figsize=(15, 8))\n",
    "plt.title('Objective value of the following year (10 year)')\n",
    "\n",
    "df111.OBJECTIVE.plot()\n",
    "df221.OBJECTIVE.plot()\n",
    "\n",
    "# plt.xlim([0,80])\n",
    "\n",
    "plt.ylabel('Objective Value')\n",
    "plt.xlabel('Relocation year')\n",
    "\n",
    "plt.legend(labels=['0%','0k']) \n",
    "\n",
    "plt.show()\n"
   ]
  },
  {
   "cell_type": "code",
   "execution_count": null,
   "metadata": {},
   "outputs": [],
   "source": []
  }
 ],
 "metadata": {
  "kernelspec": {
   "display_name": "Python 3",
   "language": "python",
   "name": "python3"
  },
  "language_info": {
   "codemirror_mode": {
    "name": "ipython",
    "version": 3
   },
   "file_extension": ".py",
   "mimetype": "text/x-python",
   "name": "python",
   "nbconvert_exporter": "python",
   "pygments_lexer": "ipython3",
   "version": "3.8.3"
  }
 },
 "nbformat": 4,
 "nbformat_minor": 4
}
